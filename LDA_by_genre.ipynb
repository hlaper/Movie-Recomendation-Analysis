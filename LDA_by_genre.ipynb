{
  "nbformat": 4,
  "nbformat_minor": 0,
  "metadata": {
    "colab": {
      "name": "LDA_by_genre.ipynb",
      "provenance": []
    },
    "kernelspec": {
      "name": "python3",
      "display_name": "Python 3"
    },
    "language_info": {
      "name": "python"
    }
  },
  "cells": [
    {
      "cell_type": "code",
      "metadata": {
        "colab": {
          "base_uri": "https://localhost:8080/",
          "height": 685
        },
        "id": "AqcK6acm7iLM",
        "outputId": "db11b89f-3542-4246-9bad-a47125df0c33"
      },
      "source": [
        "import pandas as pd\n",
        "import numpy as np\n",
        "import json\n",
        "\n",
        "!pip install pyLDAvis\n",
        "!pip install -U pandas\n",
        "import pyLDAvis\n",
        "import pyLDAvis.gensim_models as gensimvis\n",
        "\n",
        "import spacy\n",
        "import string\n",
        "from tqdm import tqdm\n",
        "tqdm.pandas()\n",
        "\n",
        "import nltk\n",
        "nltk.download('stopwords')\n",
        "from nltk.corpus import stopwords\n",
        "\n",
        "import warnings\n",
        "warnings.filterwarnings(\"ignore\", category=DeprecationWarning) \n",
        "\n",
        "stops = set(stopwords.words('english'))\n",
        "stops.add('-pron-')"
      ],
      "execution_count": null,
      "outputs": [
        {
          "output_type": "stream",
          "name": "stdout",
          "text": [
            "Requirement already satisfied: pyLDAvis in /usr/local/lib/python3.7/dist-packages (3.3.1)\n",
            "Requirement already satisfied: pandas>=1.2.0 in /usr/local/lib/python3.7/dist-packages (from pyLDAvis) (1.3.4)\n",
            "Requirement already satisfied: scikit-learn in /usr/local/lib/python3.7/dist-packages (from pyLDAvis) (1.0.1)\n",
            "Requirement already satisfied: sklearn in /usr/local/lib/python3.7/dist-packages (from pyLDAvis) (0.0)\n",
            "Requirement already satisfied: scipy in /usr/local/lib/python3.7/dist-packages (from pyLDAvis) (1.4.1)\n",
            "Requirement already satisfied: numexpr in /usr/local/lib/python3.7/dist-packages (from pyLDAvis) (2.7.3)\n",
            "Requirement already satisfied: numpy>=1.20.0 in /usr/local/lib/python3.7/dist-packages (from pyLDAvis) (1.21.4)\n",
            "Requirement already satisfied: future in /usr/local/lib/python3.7/dist-packages (from pyLDAvis) (0.16.0)\n",
            "Requirement already satisfied: gensim in /usr/local/lib/python3.7/dist-packages (from pyLDAvis) (3.6.0)\n",
            "Requirement already satisfied: jinja2 in /usr/local/lib/python3.7/dist-packages (from pyLDAvis) (2.11.3)\n",
            "Requirement already satisfied: setuptools in /usr/local/lib/python3.7/dist-packages (from pyLDAvis) (57.4.0)\n",
            "Requirement already satisfied: joblib in /usr/local/lib/python3.7/dist-packages (from pyLDAvis) (1.1.0)\n",
            "Requirement already satisfied: funcy in /usr/local/lib/python3.7/dist-packages (from pyLDAvis) (1.16)\n",
            "Requirement already satisfied: pytz>=2017.3 in /usr/local/lib/python3.7/dist-packages (from pandas>=1.2.0->pyLDAvis) (2018.9)\n",
            "Requirement already satisfied: python-dateutil>=2.7.3 in /usr/local/lib/python3.7/dist-packages (from pandas>=1.2.0->pyLDAvis) (2.8.2)\n",
            "Requirement already satisfied: six>=1.5 in /usr/local/lib/python3.7/dist-packages (from python-dateutil>=2.7.3->pandas>=1.2.0->pyLDAvis) (1.15.0)\n",
            "Requirement already satisfied: smart-open>=1.2.1 in /usr/local/lib/python3.7/dist-packages (from gensim->pyLDAvis) (5.2.1)\n",
            "Requirement already satisfied: MarkupSafe>=0.23 in /usr/local/lib/python3.7/dist-packages (from jinja2->pyLDAvis) (2.0.1)\n",
            "Requirement already satisfied: threadpoolctl>=2.0.0 in /usr/local/lib/python3.7/dist-packages (from scikit-learn->pyLDAvis) (3.0.0)\n",
            "Requirement already satisfied: pandas in /usr/local/lib/python3.7/dist-packages (1.3.4)\n",
            "Requirement already satisfied: python-dateutil>=2.7.3 in /usr/local/lib/python3.7/dist-packages (from pandas) (2.8.2)\n",
            "Requirement already satisfied: pytz>=2017.3 in /usr/local/lib/python3.7/dist-packages (from pandas) (2018.9)\n",
            "Requirement already satisfied: numpy>=1.17.3 in /usr/local/lib/python3.7/dist-packages (from pandas) (1.21.4)\n",
            "Requirement already satisfied: six>=1.5 in /usr/local/lib/python3.7/dist-packages (from python-dateutil>=2.7.3->pandas) (1.15.0)\n"
          ]
        },
        {
          "output_type": "stream",
          "name": "stderr",
          "text": [
            "/usr/local/lib/python3.7/dist-packages/IPython/core/interactiveshell.py:2882: DtypeWarning: Columns (2,3,4,5) have mixed types.Specify dtype option on import or set low_memory=False.\n",
            "  exec(code_obj, self.user_global_ns, self.user_ns)\n"
          ]
        },
        {
          "output_type": "execute_result",
          "data": {
            "text/html": [
              "<div>\n",
              "<style scoped>\n",
              "    .dataframe tbody tr th:only-of-type {\n",
              "        vertical-align: middle;\n",
              "    }\n",
              "\n",
              "    .dataframe tbody tr th {\n",
              "        vertical-align: top;\n",
              "    }\n",
              "\n",
              "    .dataframe thead th {\n",
              "        text-align: right;\n",
              "    }\n",
              "</style>\n",
              "<table border=\"1\" class=\"dataframe\">\n",
              "  <thead>\n",
              "    <tr style=\"text-align: right;\">\n",
              "      <th></th>\n",
              "      <th>Unnamed: 0</th>\n",
              "      <th>movieId</th>\n",
              "      <th>title_x</th>\n",
              "      <th>genres</th>\n",
              "      <th>year</th>\n",
              "      <th>user_tag_list</th>\n",
              "      <th>imdb_id</th>\n",
              "      <th>tmdbId</th>\n",
              "      <th>title_y</th>\n",
              "      <th>overview</th>\n",
              "      <th>production_companies</th>\n",
              "      <th>production_countries</th>\n",
              "      <th>spoken_languages</th>\n",
              "      <th>tagline</th>\n",
              "    </tr>\n",
              "  </thead>\n",
              "  <tbody>\n",
              "    <tr>\n",
              "      <th>0</th>\n",
              "      <td>0.0</td>\n",
              "      <td>1.0</td>\n",
              "      <td>Toy Story</td>\n",
              "      <td>[Adventure, Animation, Children, Comedy, Fantasy]</td>\n",
              "      <td>['1995']</td>\n",
              "      <td>['Owned', 'imdb top 250', 'Pixar', 'Pixar', 't...</td>\n",
              "      <td>114709.0</td>\n",
              "      <td>862.0</td>\n",
              "      <td>Toy Story</td>\n",
              "      <td>Led by Woody, Andy's toys live happily in his ...</td>\n",
              "      <td>['Pixar Animation Studios']</td>\n",
              "      <td>NaN</td>\n",
              "      <td>NaN</td>\n",
              "      <td>NaN</td>\n",
              "    </tr>\n",
              "    <tr>\n",
              "      <th>1</th>\n",
              "      <td>1.0</td>\n",
              "      <td>2.0</td>\n",
              "      <td>Jumanji</td>\n",
              "      <td>[Adventure, Children, Fantasy]</td>\n",
              "      <td>['1995']</td>\n",
              "      <td>['Robin Williams', 'time travel', 'fantasy', \"...</td>\n",
              "      <td>113497.0</td>\n",
              "      <td>8844.0</td>\n",
              "      <td>Jumanji</td>\n",
              "      <td>When siblings Judy and Peter discover an encha...</td>\n",
              "      <td>['TriStar Pictures', 'Teitler Film', 'Intersco...</td>\n",
              "      <td>NaN</td>\n",
              "      <td>NaN</td>\n",
              "      <td>Roll the dice and unleash the excitement!</td>\n",
              "    </tr>\n",
              "  </tbody>\n",
              "</table>\n",
              "</div>"
            ],
            "text/plain": [
              "   Unnamed: 0  ...                                    tagline\n",
              "0         0.0  ...                                        NaN\n",
              "1         1.0  ...  Roll the dice and unleash the excitement!\n",
              "\n",
              "[2 rows x 14 columns]"
            ]
          },
          "metadata": {},
          "execution_count": 13
        }
      ]
    },
    {
      "cell_type": "code",
      "metadata": {
        "colab": {
          "base_uri": "https://localhost:8080/",
          "height": 268
        },
        "id": "dg4wagf0uiND",
        "outputId": "8195dd13-8e37-4364-9035-f130f24919c7"
      },
      "source": [
        "# Load csv\n",
        "df_original = pd.read_csv('content_df.csv')\n",
        "df_original = df_original[~(df_original['title_x'].isna() | df_original['overview'].isna() | df_original['overview'] == 'No overview found.')]\n",
        "\n",
        "df_original = df_original[~df_original['overview'].isna()]\n",
        "df_original = df_original[~df_original['title_x'].isna()]\n",
        "df_original = df_original[~df_original['overview'].apply(lambda x: 'no overview' in x.lower())]\n",
        "\n",
        "df = df_original.copy()\n",
        "\n",
        "df.loc[df['genres'].isin([' no genres listed ', np.NaN])] = np.NaN\n",
        "\n",
        "# Split genre string into list of genres\n",
        "df['genres'] = df['genres'].str.split(' ')\n",
        "df.head(2)"
      ],
      "execution_count": null,
      "outputs": [
        {
          "output_type": "stream",
          "name": "stderr",
          "text": [
            "/usr/local/lib/python3.7/dist-packages/IPython/core/interactiveshell.py:2882: DtypeWarning: Columns (2,3,4,5) have mixed types.Specify dtype option on import or set low_memory=False.\n",
            "  exec(code_obj, self.user_global_ns, self.user_ns)\n"
          ]
        },
        {
          "output_type": "execute_result",
          "data": {
            "text/html": [
              "<div>\n",
              "<style scoped>\n",
              "    .dataframe tbody tr th:only-of-type {\n",
              "        vertical-align: middle;\n",
              "    }\n",
              "\n",
              "    .dataframe tbody tr th {\n",
              "        vertical-align: top;\n",
              "    }\n",
              "\n",
              "    .dataframe thead th {\n",
              "        text-align: right;\n",
              "    }\n",
              "</style>\n",
              "<table border=\"1\" class=\"dataframe\">\n",
              "  <thead>\n",
              "    <tr style=\"text-align: right;\">\n",
              "      <th></th>\n",
              "      <th>Unnamed: 0</th>\n",
              "      <th>movieId</th>\n",
              "      <th>title_x</th>\n",
              "      <th>genres</th>\n",
              "      <th>year</th>\n",
              "      <th>user_tag_list</th>\n",
              "      <th>imdb_id</th>\n",
              "      <th>tmdbId</th>\n",
              "      <th>title_y</th>\n",
              "      <th>overview</th>\n",
              "      <th>production_companies</th>\n",
              "      <th>production_countries</th>\n",
              "      <th>spoken_languages</th>\n",
              "      <th>tagline</th>\n",
              "    </tr>\n",
              "  </thead>\n",
              "  <tbody>\n",
              "    <tr>\n",
              "      <th>0</th>\n",
              "      <td>0.0</td>\n",
              "      <td>1.0</td>\n",
              "      <td>Toy Story</td>\n",
              "      <td>[Adventure, Animation, Children, Comedy, Fantasy]</td>\n",
              "      <td>['1995']</td>\n",
              "      <td>['Owned', 'imdb top 250', 'Pixar', 'Pixar', 't...</td>\n",
              "      <td>114709.0</td>\n",
              "      <td>862.0</td>\n",
              "      <td>Toy Story</td>\n",
              "      <td>Led by Woody, Andy's toys live happily in his ...</td>\n",
              "      <td>['Pixar Animation Studios']</td>\n",
              "      <td>NaN</td>\n",
              "      <td>NaN</td>\n",
              "      <td>NaN</td>\n",
              "    </tr>\n",
              "    <tr>\n",
              "      <th>1</th>\n",
              "      <td>1.0</td>\n",
              "      <td>2.0</td>\n",
              "      <td>Jumanji</td>\n",
              "      <td>[Adventure, Children, Fantasy]</td>\n",
              "      <td>['1995']</td>\n",
              "      <td>['Robin Williams', 'time travel', 'fantasy', \"...</td>\n",
              "      <td>113497.0</td>\n",
              "      <td>8844.0</td>\n",
              "      <td>Jumanji</td>\n",
              "      <td>When siblings Judy and Peter discover an encha...</td>\n",
              "      <td>['TriStar Pictures', 'Teitler Film', 'Intersco...</td>\n",
              "      <td>NaN</td>\n",
              "      <td>NaN</td>\n",
              "      <td>Roll the dice and unleash the excitement!</td>\n",
              "    </tr>\n",
              "  </tbody>\n",
              "</table>\n",
              "</div>"
            ],
            "text/plain": [
              "   Unnamed: 0  ...                                    tagline\n",
              "0         0.0  ...                                        NaN\n",
              "1         1.0  ...  Roll the dice and unleash the excitement!\n",
              "\n",
              "[2 rows x 14 columns]"
            ]
          },
          "metadata": {},
          "execution_count": 32
        }
      ]
    },
    {
      "cell_type": "code",
      "metadata": {
        "colab": {
          "base_uri": "https://localhost:8080/"
        },
        "id": "5By-1ZGN78J4",
        "outputId": "37d9d8d3-d7e8-4d9e-dcf3-a0c9d1ea9379"
      },
      "source": [
        "# Only include rows with at least one genre\n",
        "df = df[~df['genres'].isna()]\n",
        "\n",
        "# Get list of genres\n",
        "genres = {}\n",
        "for row in df['genres']:\n",
        "    for g in row:\n",
        "        if g not in genres:\n",
        "            genres[g] = 1\n",
        "        else:\n",
        "            genres[g] += 1\n",
        "\n",
        "# Sort genres by count\n",
        "genres = sorted(genres.items(), key=lambda item: item[1], reverse = True)\n",
        "\n",
        "# Only use genres with at least 1000 results as main genres\n",
        "main_genres = {k: v for k, v in genres if v >= 1000}\n",
        "main_genres"
      ],
      "execution_count": null,
      "outputs": [
        {
          "output_type": "execute_result",
          "data": {
            "text/plain": [
              "{'Action': 3594,\n",
              " 'Adventure': 2318,\n",
              " 'Animation': 1020,\n",
              " 'Children': 1360,\n",
              " 'Comedy': 8244,\n",
              " 'Crime': 2979,\n",
              " 'Documentary': 1469,\n",
              " 'Drama': 12973,\n",
              " 'Fantasy': 1449,\n",
              " 'Fi': 1771,\n",
              " 'Horror': 2633,\n",
              " 'Mystery': 1488,\n",
              " 'Romance': 4236,\n",
              " 'Sci': 1771,\n",
              " 'Thriller': 3925,\n",
              " 'War': 1167}"
            ]
          },
          "metadata": {},
          "execution_count": 33
        }
      ]
    },
    {
      "cell_type": "code",
      "metadata": {
        "colab": {
          "base_uri": "https://localhost:8080/"
        },
        "id": "hA8C3kA_AqUM",
        "outputId": "c8ab83f5-e3af-4f49-9bc4-3fca8ffd0d57"
      },
      "source": [
        "# Only include rows with at least one main genre\n",
        "def is_main_genre(g_dict):\n",
        "    for g in g_dict:\n",
        "        if g in main_genres:\n",
        "            return True\n",
        "    return False\n",
        "\n",
        "df = df[df['genres'].map(is_main_genre)]\n",
        "print('Remaining rows:', df.shape[0])"
      ],
      "execution_count": null,
      "outputs": [
        {
          "output_type": "stream",
          "name": "stdout",
          "text": [
            "Remaining rows: 26031\n"
          ]
        }
      ]
    },
    {
      "cell_type": "code",
      "metadata": {
        "colab": {
          "base_uri": "https://localhost:8080/"
        },
        "id": "R-dC9GwvB9rb",
        "outputId": "3d6009b2-9776-4920-9515-4d5559bced36"
      },
      "source": [
        "# Load spacy nlp\n",
        "nlp = spacy.load('en')\n",
        "vocab = set()\n",
        "\n",
        "# Remove named entities and non-alpha tokens\n",
        "def preprocess(s):\n",
        "    s.translate(str.maketrans('', '', string.punctuation))\n",
        "    document = nlp(s)\n",
        "\n",
        "    text_no_namedentities = []\n",
        "    ents = [e.text for e in document.ents]\n",
        "    for item in document:\n",
        "        word = item.text.lower\n",
        "        if (word not in ents) and (item.is_alpha) and (word not in stops):\n",
        "            lemma = item.lemma_.lower()\n",
        "            vocab.add(item.lemma_)\n",
        "            text_no_namedentities.append(lemma)\n",
        "    return text_no_namedentities\n",
        "\n",
        "# Remove NaN and clean (this part takes ~10 min on google colab)\n",
        "df = df[df['overview'].notna()]\n",
        "df['overview_clean'] = df['overview'].progress_map(preprocess)"
      ],
      "execution_count": null,
      "outputs": [
        {
          "output_type": "stream",
          "name": "stdout",
          "text": [
            "[nltk_data] Downloading package stopwords to /root/nltk_data...\n",
            "[nltk_data]   Package stopwords is already up-to-date!\n"
          ]
        },
        {
          "output_type": "stream",
          "name": "stderr",
          "text": [
            "100%|██████████| 26031/26031 [07:48<00:00, 55.55it/s]\n"
          ]
        }
      ]
    },
    {
      "cell_type": "code",
      "metadata": {
        "id": "oNY7z0LqCN3c"
      },
      "source": [
        "# Remove stopwords\n",
        "stops = set(stopwords.words('english'))\n",
        "stops.add('-pron-')\n",
        "df['overview_clean'] = df['overview_clean'].apply(lambda x: [i for i in x if i not in stops])"
      ],
      "execution_count": null,
      "outputs": []
    },
    {
      "cell_type": "code",
      "metadata": {
        "id": "waJRZM_fY3ji"
      },
      "source": [
        "df.to_csv('content_df_clean.csv')\n",
        "# df = pd.read_csv('content_df_clean.csv')"
      ],
      "execution_count": null,
      "outputs": []
    },
    {
      "cell_type": "code",
      "metadata": {
        "id": "WwaJFkwXGvN3",
        "colab": {
          "base_uri": "https://localhost:8080/"
        },
        "outputId": "f3b869fd-5cfb-4ba6-be23-4041694ebf12"
      },
      "source": [
        "import gensim.downloader as api\n",
        "from gensim.corpora import Dictionary\n",
        "from gensim.models import TfidfModel, LdaModel\n",
        "\n",
        "import nltk\n",
        "nltk.download('stopwords')\n",
        "from nltk.corpus import stopwords\n",
        "\n",
        "from tqdm import tqdm\n",
        "\n",
        "import warnings\n",
        "warnings.filterwarnings(\"ignore\", category=DeprecationWarning) \n",
        "\n",
        "genre_models = {g: {} for g in main_genres}\n",
        "\n",
        "for g in tqdm(main_genres):\n",
        "\n",
        "    df_subset = df[df['genres'].apply(lambda x: g in x)]\n",
        "\n",
        "    genre_models[g]['dictionary'] = Dictionary(df_subset['overview_clean'])\n",
        "    genre_models[g]['corpus'] = [genre_models[g]['dictionary'].doc2bow(line) for line in df_subset['overview_clean']]\n",
        "\n",
        "    genre_models[g]['tfidf'] = TfidfModel(genre_models[g]['corpus'])\n",
        "    genre_models[g]['tfidf_corpus'] = genre_models[g]['tfidf'][genre_models[g]['corpus']]\n",
        "\n",
        "    genre_models[g]['lda'] = LdaModel(genre_models[g]['tfidf_corpus'], num_topics=4)"
      ],
      "execution_count": null,
      "outputs": [
        {
          "output_type": "stream",
          "name": "stdout",
          "text": [
            "[nltk_data] Downloading package stopwords to /root/nltk_data...\n",
            "[nltk_data]   Package stopwords is already up-to-date!\n"
          ]
        },
        {
          "output_type": "stream",
          "name": "stderr",
          "text": [
            "100%|██████████| 16/16 [00:55<00:00,  3.47s/it]\n"
          ]
        }
      ]
    },
    {
      "cell_type": "code",
      "metadata": {
        "colab": {
          "base_uri": "https://localhost:8080/",
          "height": 916
        },
        "id": "9ujTKiWYL9sb",
        "outputId": "cec96b3d-5c37-45a2-efb1-aecb609bad1a"
      },
      "source": [
        "pyLDAvis.enable_notebook()\n",
        "\n",
        "genre = 'Action'\n",
        "\n",
        "vis_data = gensimvis.prepare(genre_models[genre]['lda'], genre_models[genre]['corpus'], genre_models[genre]['dictionary'])\n",
        "pyLDAvis.display(vis_data)"
      ],
      "execution_count": null,
      "outputs": [
        {
          "output_type": "stream",
          "name": "stderr",
          "text": [
            "/usr/local/lib/python3.7/dist-packages/pyLDAvis/_prepare.py:247: FutureWarning: In a future version of pandas all arguments of DataFrame.drop except for the argument 'labels' will be keyword-only\n",
            "  by='saliency', ascending=False).head(R).drop('saliency', 1)\n"
          ]
        },
        {
          "output_type": "execute_result",
          "data": {
            "text/html": [
              "\n",
              "<link rel=\"stylesheet\" type=\"text/css\" href=\"https://cdn.jsdelivr.net/gh/bmabey/pyLDAvis@3.3.1/pyLDAvis/js/ldavis.v1.0.0.css\">\n",
              "\n",
              "\n",
              "<div id=\"ldavis_el1265139710277515728312709822\"></div>\n",
              "<script type=\"text/javascript\">\n",
              "\n",
              "var ldavis_el1265139710277515728312709822_data = {\"mdsDat\": {\"x\": [-0.037480029589323685, 0.009418625230110278, 0.013583161225528407, 0.014478243133684966], \"y\": [-0.002954160842799336, 0.033132224075816716, -0.015801123062111188, -0.014376940170906191], \"topics\": [1, 2, 3, 4], \"cluster\": [1, 1, 1, 1], \"Freq\": [43.12245118464131, 27.25326697985534, 14.813303812413658, 14.81097802308969]}, \"tinfo\": {\"Term\": [\"gang\", \"godzilla\", \"ring\", \"drug\", \"goro\", \"biker\", \"cell\", \"teacher\", \"jet\", \"pirate\", \"family\", \"vampire\", \"boss\", \"town\", \"shark\", \"two\", \"hercules\", \"find\", \"gangster\", \"david\", \"send\", \"king\", \"undercover\", \"war\", \"scott\", \"president\", \"mine\", \"raj\", \"ii\", \"hunter\", \"politician\", \"iron\", \"eagle\", \"foil\", \"unite\", \"homicidal\", \"cannon\", \"patriot\", \"maniac\", \"complicated\", \"superman\", \"fisherman\", \"achieve\", \"temple\", \"wrestler\", \"truman\", \"fist\", \"chung\", \"han\", \"historical\", \"amazon\", \"ireland\", \"corey\", \"maria\", \"cave\", \"deathstalker\", \"exotic\", \"jin\", \"resort\", \"cleopatra\", \"situation\", \"amp\", \"model\", \"couple\", \"shaolin\", \"supernatural\", \"commando\", \"defeat\", \"texas\", \"style\", \"bank\", \"underworld\", \"task\", \"victim\", \"direct\", \"cyborg\", \"one\", \"master\", \"man\", \"future\", \"bandit\", \"evil\", \"go\", \"force\", \"kill\", \"world\", \"become\", \"girl\", \"battle\", \"fight\", \"get\", \"cop\", \"take\", \"film\", \"secret\", \"story\", \"city\", \"new\", \"try\", \"find\", \"life\", \"people\", \"young\", \"police\", \"two\", \"turn\", \"help\", \"murder\", \"war\", \"must\", \"brother\", \"woman\", \"group\", \"ichi\", \"frankie\", \"gamera\", \"burt\", \"briefcase\", \"jesse\", \"lupin\", \"settler\", \"geronimo\", \"cho\", \"hole\", \"porter\", \"gambler\", \"boomer\", \"protection\", \"russians\", \"holocaust\", \"independent\", \"metropolis\", \"hunting\", \"gunslinger\", \"mason\", \"stray\", \"solution\", \"ron\", \"scooter\", \"amount\", \"teacher\", \"frontier\", \"tat\", \"farmer\", \"jake\", \"ninja\", \"cool\", \"tokyo\", \"always\", \"kim\", \"school\", \"indian\", \"child\", \"club\", \"town\", \"ex\", \"local\", \"take\", \"revenge\", \"wife\", \"gang\", \"agent\", \"undercover\", \"drug\", \"terrorist\", \"police\", \"crime\", \"boss\", \"young\", \"find\", \"get\", \"force\", \"know\", \"woman\", \"murder\", \"life\", \"family\", \"try\", \"cop\", \"one\", \"save\", \"man\", \"two\", \"go\", \"friend\", \"father\", \"kill\", \"karan\", \"dan\", \"raj\", \"wade\", \"possibly\", \"hatch\", \"turkish\", \"arjun\", \"sanctuary\", \"trucker\", \"pat\", \"proof\", \"hawaii\", \"taiwan\", \"gadget\", \"climber\", \"donna\", \"hotshot\", \"lynn\", \"macgyver\", \"saboteur\", \"clone\", \"tartars\", \"physicist\", \"vijay\", \"takeda\", \"wellington\", \"cannibal\", \"option\", \"sibling\", \"godzilla\", \"jet\", \"robotic\", \"mine\", \"ajay\", \"heir\", \"spiral\", \"jeff\", \"nazi\", \"slaughter\", \"diamond\", \"king\", \"gangster\", \"gold\", \"david\", \"send\", \"two\", \"kill\", \"earth\", \"find\", \"agent\", \"father\", \"year\", \"help\", \"world\", \"get\", \"new\", \"man\", \"love\", \"try\", \"friend\", \"life\", \"back\", \"must\", \"killer\", \"son\", \"go\", \"war\", \"woman\", \"plan\", \"use\", \"young\", \"become\", \"one\", \"fight\", \"riddick\", \"goro\", \"backdrop\", \"quinn\", \"cell\", \"luc\", \"tower\", \"nephew\", \"ghidorah\", \"saint\", \"chair\", \"rizzo\", \"jewelry\", \"hercules\", \"wendy\", \"shipwreck\", \"invader\", \"zero\", \"bobby\", \"u\", \"nowhere\", \"sudden\", \"jai\", \"tajima\", \"spotlight\", \"elaborately\", \"universal\", \"wilson\", \"inhabit\", \"ronnie\", \"slip\", \"flick\", \"episode\", \"possess\", \"shark\", \"helen\", \"ring\", \"process\", \"vampire\", \"gang\", \"nurse\", \"traffic\", \"ii\", \"scott\", \"pirate\", \"charles\", \"drug\", \"vicious\", \"find\", \"war\", \"young\", \"expert\", \"criminal\", \"family\", \"two\", \"world\", \"attempt\", \"island\", \"story\", \"man\", \"group\", \"murder\", \"must\", \"death\", \"start\", \"way\", \"first\", \"take\", \"team\", \"get\", \"kill\", \"go\", \"woman\", \"life\", \"film\", \"one\", \"come\", \"new\", \"american\", \"fight\"], \"Freq\": [111.0, 23.0, 32.0, 73.0, 14.0, 26.0, 14.0, 30.0, 15.0, 31.0, 85.0, 32.0, 53.0, 92.0, 15.0, 123.0, 13.0, 139.0, 56.0, 25.0, 69.0, 46.0, 43.0, 100.0, 18.0, 36.0, 16.0, 10.0, 24.0, 37.0, 21.49807004007804, 20.273903421281762, 17.926447393284576, 20.515472707457885, 19.202630888722812, 14.289806919084105, 12.719659579576517, 14.848253680320397, 15.478671961847745, 13.383415494629872, 18.321836084763646, 10.702848234558575, 12.621243108595221, 21.6778303368628, 10.612498889842495, 12.110487321053588, 25.156828109401257, 10.32859153539844, 10.768113733709201, 9.999472829936364, 16.89038492168584, 10.727097549820728, 9.910775114384515, 10.153486886345743, 9.847255664710937, 13.527856783939626, 11.097571625987324, 9.347728631293752, 11.902803306217827, 9.272956459262472, 18.435641614114203, 16.8329933503142, 13.980515026693773, 25.756934565273387, 23.207758980970187, 20.37710627581287, 17.322844480597755, 29.457777946950223, 21.997610147077, 19.9499865487459, 35.51030302877793, 24.961261852250637, 23.255031600048053, 22.640247869703295, 22.622290578825364, 20.98394853153947, 85.48751207322344, 42.31469270372089, 89.36526425823791, 37.03343341036237, 24.3748100262323, 51.04864717570694, 65.39609551683661, 59.580356242875595, 63.440665364561944, 58.94608997044584, 54.137324448634395, 43.499775123490984, 47.919755565239875, 54.533465597375624, 63.694920382920316, 54.37347400885472, 64.12695868197504, 51.13126640204356, 45.14231088528623, 47.59801471775944, 47.65053565360983, 51.71498149161035, 53.8637030978068, 62.246169965913914, 55.66172732551159, 40.39932581648532, 56.6533091140515, 51.3340115082088, 55.367571735576206, 42.830637250606955, 48.302596523455435, 51.059721952090484, 48.246246480765194, 45.46130918583433, 43.70006820676333, 44.3043204406783, 43.84727092706799, 11.376971312806607, 10.655129176973135, 10.86870292308268, 10.703129517912009, 10.566978756458465, 10.381476281743927, 10.541885645262477, 8.900243689442005, 8.769151393677918, 8.478160171223472, 12.373838831383939, 7.979297222695274, 11.68601418877317, 7.701495651159232, 14.502308994040579, 7.093824279404179, 7.43555852269718, 7.25992189218078, 7.184302420382664, 7.007910692220244, 9.523583452108483, 6.53291296053964, 7.294103716684501, 6.777202885421925, 6.590965510202051, 6.289245474811158, 9.040770804061001, 21.390341852861443, 7.336352003761798, 6.192025161051663, 10.927287483791739, 12.481193978533407, 14.282860634147584, 9.470681632346379, 13.644742990863472, 14.225979977670761, 10.616989630947229, 34.672927159967216, 18.994006193833368, 30.563932726266852, 10.627931890938632, 41.29263182428462, 28.375157573735628, 27.551202366811996, 45.50645309034157, 29.361573072009065, 30.01528658010851, 38.27424993764568, 35.382291135065465, 20.306263998863088, 28.31405571485588, 26.26688087955544, 35.10487422725427, 27.212544056239963, 23.044179209447563, 36.899224927681644, 38.49106073457573, 37.23505563855794, 33.87212889288948, 26.580202795191433, 32.1854693465884, 32.68131649479176, 33.618713532625485, 28.449119502919892, 32.11293957828899, 31.501028643094024, 36.681176596858776, 28.12840910600101, 36.17289535440896, 32.350975733974074, 32.24754434042837, 29.01085890455247, 27.832238235013, 29.442820660669106, 6.055696663635935, 5.574874708621661, 6.6771113772568045, 5.63365840880208, 5.255641437349942, 4.963314247533943, 4.475296213130334, 5.916248611091271, 4.972039263005999, 4.85739899680353, 4.7195242913439905, 4.538175705532351, 4.8912062486326295, 4.0888491352220955, 4.3123442613140215, 3.9752183460742434, 3.6255602946564296, 3.6662028488553444, 3.6558478497951, 3.615084787089665, 3.485698571089385, 5.877544172997216, 3.6037028459738596, 3.7461578726812115, 3.4628271543519555, 3.325678743431711, 3.9559996095344374, 3.971443410870005, 3.4199505770321714, 4.973661512093769, 12.17366054664076, 8.321399300218957, 4.807856278123083, 7.953124805293924, 5.2945439784547155, 5.953550859109463, 3.986978778710527, 6.615496849923227, 7.962270976788766, 4.5300315260917206, 9.055361473929068, 11.578135950420641, 12.59110201322591, 9.859762491450184, 7.891154989941124, 13.705544721521447, 18.49172344047169, 18.01348780259735, 12.75608240015197, 17.595114203961764, 14.934165621994453, 14.10698824724105, 14.031487547156178, 14.639429260048109, 15.528138328130607, 16.55664125577648, 14.7341304831718, 17.929412286048546, 13.149846315456076, 14.913269496863894, 14.130358414505464, 15.231259260068335, 13.26977797794483, 13.877430270821101, 12.803819736734738, 12.348007164073566, 14.220869035402428, 13.109884397293987, 13.2089498746538, 12.185584651285899, 12.222097481261379, 13.469449844747828, 12.6952313428597, 13.52921208398119, 12.641349319944478, 5.248435556569944, 9.41320623796474, 5.047599623259659, 5.4299811820213595, 9.043809614862438, 5.1266068649133665, 5.223155195013745, 4.780450512615272, 4.181843531844222, 5.174538270768981, 3.7329996181659184, 3.680961338496413, 5.360509331527353, 7.877989801150654, 3.8290652415403126, 3.6273207718496487, 6.46018709804148, 3.7046159637563636, 5.07769857040713, 3.48299320700624, 3.774726434001543, 3.86243337299994, 5.122034746632313, 3.3840727537754307, 3.4032720084275887, 3.4065998160372164, 3.4363537588425497, 3.983280935171609, 3.943009473878306, 3.357439566082275, 5.823396393749614, 4.610288284228514, 5.248157657193847, 6.1272327123338455, 7.88810743391162, 4.136949062258443, 11.042172553172698, 5.963661239347865, 10.933820733952594, 24.026120347641566, 5.247575415592582, 4.466639751792408, 8.617002073973046, 7.054647291264192, 9.736029520026033, 6.222186987664695, 15.575267176056501, 7.460509102158471, 20.73978111241879, 17.331808762838232, 19.444686200967414, 9.458649022477502, 14.469718598126708, 15.101692712514025, 17.513049048221117, 16.743773683018336, 12.347177047044225, 10.689584601489939, 14.499176929836283, 18.67970156221783, 14.577503642317646, 15.681043561561328, 14.581000085455319, 13.345434513246877, 10.95392627983757, 13.027180355936554, 12.215585455941591, 15.985454637921615, 13.413161135702131, 15.589825710696521, 15.169433304776335, 14.968659237754446, 13.711086230214567, 13.624653038266752, 12.952689353335673, 14.033547295135742, 12.665517018883612, 12.886866616013604, 12.035471735713509, 12.169008123527137], \"Total\": [111.0, 23.0, 32.0, 73.0, 14.0, 26.0, 14.0, 30.0, 15.0, 31.0, 85.0, 32.0, 53.0, 92.0, 15.0, 123.0, 13.0, 139.0, 56.0, 25.0, 69.0, 46.0, 43.0, 100.0, 18.0, 36.0, 16.0, 10.0, 24.0, 37.0, 24.38529677765399, 23.066552146523986, 20.45642254312601, 23.73577408368203, 22.36967487090092, 16.749028847835564, 14.919032591023127, 17.433573038061724, 18.214663198447422, 15.872670485063658, 21.927262514370163, 12.848359029817486, 15.15884883949019, 26.07101222143444, 12.789270969055277, 14.594842527571014, 30.361376302990433, 12.490446699456118, 13.036372249517852, 12.140992939527711, 20.540706044547036, 13.059688464384712, 12.07081671612188, 12.37538438225821, 12.0070962368949, 16.60715325814005, 13.628459029993579, 11.50077736583632, 14.667174706067946, 11.490973047316347, 22.894221569369467, 21.067481096606134, 17.3996640114464, 33.398046978654335, 30.06821375706939, 26.165653453434444, 22.001043924821804, 39.21648299713262, 28.662554224817608, 25.758694322631666, 49.69751659154551, 33.482133272740555, 30.95007083454421, 30.428853889181454, 30.416431725335524, 27.91435817359473, 149.73144804919914, 64.60852625687161, 162.14727346091325, 55.49931736705425, 33.87007234420694, 88.49660288253439, 126.83316813042187, 112.26258430719565, 126.06640713260474, 114.14937648811564, 102.80334015753873, 76.13502074141199, 88.12190279195566, 106.29015776625184, 133.07644298795125, 106.41498403452584, 137.79297006890295, 98.79275974873566, 82.6485456120718, 89.54303606667783, 90.30466233015234, 102.50494858811405, 109.70901245209494, 139.07212601687021, 118.13635315647215, 71.18869856732363, 126.46667008744838, 107.52136096138435, 123.7233199582431, 78.91839478089993, 99.59478049578433, 111.59608187510268, 100.51207384526293, 96.38966079490913, 88.29276014952949, 103.40982589213506, 92.39403455835735, 13.889081757368897, 13.169025369386333, 13.547870483202606, 13.440260808067537, 13.452569719279502, 13.232948622125484, 13.47761202415717, 11.420122102480601, 11.25811222625054, 11.15518702288677, 16.293503167105598, 10.514805046199099, 15.400636365896853, 10.255752303241355, 19.66813296327236, 9.634719144212044, 10.277470139160675, 10.058617788106604, 10.00717163825909, 9.775095427330331, 13.30113496726301, 9.135808604514772, 10.206164926816854, 9.500120820302872, 9.245454143523752, 8.824603085385323, 12.687429185877832, 30.0278574136956, 10.324014153321729, 8.747000329784813, 15.570794040892212, 18.179570574493415, 21.067833257232728, 13.652581415008832, 20.307172883046448, 21.654637410274603, 15.837410400347713, 69.40621536898824, 33.13658404126015, 60.41226594187244, 16.18488957548655, 92.87688104939967, 64.82708488328277, 63.65954963422913, 137.79297006890295, 72.30252361883774, 76.52883583068603, 111.94690448713206, 100.03289297092938, 43.15421101991088, 73.27790310483896, 66.45143774951899, 107.52136096138435, 71.17656904632821, 53.7840742530751, 126.46667008744838, 139.07212601687021, 133.07644298795125, 112.26258430719565, 71.973552478269, 103.40982589213506, 111.59608187510268, 118.13635315647215, 85.91242364335173, 109.70901245209494, 106.41498403452584, 149.73144804919914, 85.95058344869206, 162.14727346091325, 123.7233199582431, 126.83316813042187, 96.86717172576041, 89.90247914366385, 126.06640713260474, 8.992829215119801, 8.476960384224329, 10.208466643016255, 8.64177124504658, 8.378296405484823, 8.172754500253356, 7.505312772364329, 9.980849141711222, 8.390056041209869, 8.19927369781682, 8.054411749567086, 7.745505613150306, 8.436940456722875, 7.072642174847038, 7.473629002982028, 7.0659782102342135, 6.490899038037724, 6.579641016525782, 6.575067733247329, 6.5044695686913006, 6.305524810947718, 10.687279973645852, 6.610289603885365, 6.876388358591901, 6.380577411877338, 6.15449076308506, 7.333159142505859, 7.371018443989345, 6.3651936224554735, 9.282318033145433, 23.06965291020351, 15.839428578892901, 9.10392835092753, 16.37419730447353, 10.405675157938582, 12.51780330601902, 7.4482251397826325, 15.862728497580669, 22.755505050104844, 9.35871019770496, 29.90889866682615, 46.785999128412435, 56.64144833645033, 37.230102291791724, 25.02553326682797, 69.57284457362603, 123.7233199582431, 126.06640713260474, 66.16780530291834, 139.07212601687021, 100.03289297092938, 89.90247914366385, 90.38528844977056, 99.59478049578433, 114.14937648811564, 133.07644298795125, 102.50494858811405, 162.14727346091325, 79.96170995885112, 109.70901245209494, 96.86717172576041, 118.13635315647215, 84.91946285865659, 96.38966079490913, 77.68881651373655, 70.52734146108061, 126.83316813042187, 100.51207384526293, 103.40982589213506, 79.55293360614036, 84.07479133274009, 126.46667008744838, 102.80334015753873, 149.73144804919914, 106.29015776625184, 8.153877654697649, 14.87432856226932, 7.993079672167278, 8.605361881999617, 14.558373992896666, 8.305955986374208, 8.579379843513856, 7.907782559616262, 7.0349197034315605, 8.768019066645888, 6.580516470023312, 6.498838701461908, 9.486396146032446, 13.985887977209906, 6.818935721656452, 6.501178884431644, 11.624919160202449, 6.66904594455139, 9.147498916277463, 6.321346213154545, 6.881949148955851, 7.061612656346213, 9.381360832559123, 6.205761176983026, 6.26768897086024, 6.277424884539498, 6.376823617350807, 7.394987371046759, 7.325571764866785, 6.25842384284073, 10.882841078838869, 8.620234174201016, 9.896654357534178, 11.810559721179878, 15.75716677561618, 7.913660777042393, 32.153677691560816, 13.34406845900806, 32.512825707899935, 111.94690448713206, 11.247713474943804, 8.828781228974073, 24.768633601278935, 18.325602238896707, 31.25896239682388, 15.418373629032175, 73.27790310483896, 21.308771137824035, 139.07212601687021, 100.51207384526293, 126.46667008744838, 33.61047585386758, 78.05070199498167, 85.91242364335173, 123.7233199582431, 114.14937648811564, 61.41908056433353, 45.33222240285912, 89.54303606667783, 162.14727346091325, 92.39403455835735, 111.59608187510268, 96.38966079490913, 78.94068461866007, 48.998276249591186, 77.1167132746277, 66.93707487098926, 137.79297006890295, 87.3326515020522, 133.07644298795125, 126.06640713260474, 126.83316813042187, 103.40982589213506, 118.13635315647215, 98.79275974873566, 149.73144804919914, 89.74594666657347, 102.50494858811405, 87.4482635626712, 106.29015776625184], \"Category\": [\"Default\", \"Default\", \"Default\", \"Default\", \"Default\", \"Default\", \"Default\", \"Default\", \"Default\", \"Default\", \"Default\", \"Default\", \"Default\", \"Default\", \"Default\", \"Default\", \"Default\", \"Default\", \"Default\", \"Default\", \"Default\", \"Default\", \"Default\", \"Default\", \"Default\", \"Default\", \"Default\", \"Default\", \"Default\", \"Default\", \"Topic1\", \"Topic1\", \"Topic1\", \"Topic1\", \"Topic1\", \"Topic1\", \"Topic1\", \"Topic1\", \"Topic1\", \"Topic1\", \"Topic1\", \"Topic1\", \"Topic1\", \"Topic1\", \"Topic1\", \"Topic1\", \"Topic1\", \"Topic1\", \"Topic1\", \"Topic1\", \"Topic1\", \"Topic1\", \"Topic1\", \"Topic1\", \"Topic1\", \"Topic1\", \"Topic1\", \"Topic1\", \"Topic1\", \"Topic1\", \"Topic1\", \"Topic1\", \"Topic1\", \"Topic1\", \"Topic1\", \"Topic1\", \"Topic1\", \"Topic1\", \"Topic1\", \"Topic1\", \"Topic1\", \"Topic1\", \"Topic1\", \"Topic1\", \"Topic1\", \"Topic1\", \"Topic1\", \"Topic1\", \"Topic1\", \"Topic1\", \"Topic1\", \"Topic1\", \"Topic1\", \"Topic1\", \"Topic1\", \"Topic1\", \"Topic1\", \"Topic1\", \"Topic1\", \"Topic1\", \"Topic1\", \"Topic1\", \"Topic1\", \"Topic1\", \"Topic1\", \"Topic1\", \"Topic1\", \"Topic1\", \"Topic1\", \"Topic1\", \"Topic1\", \"Topic1\", \"Topic1\", \"Topic1\", \"Topic1\", \"Topic1\", \"Topic1\", \"Topic1\", \"Topic1\", \"Topic1\", \"Topic1\", \"Topic1\", \"Topic1\", \"Topic2\", \"Topic2\", \"Topic2\", \"Topic2\", \"Topic2\", \"Topic2\", \"Topic2\", \"Topic2\", \"Topic2\", \"Topic2\", \"Topic2\", \"Topic2\", \"Topic2\", \"Topic2\", \"Topic2\", \"Topic2\", \"Topic2\", \"Topic2\", \"Topic2\", \"Topic2\", \"Topic2\", \"Topic2\", \"Topic2\", \"Topic2\", \"Topic2\", \"Topic2\", \"Topic2\", \"Topic2\", \"Topic2\", \"Topic2\", \"Topic2\", \"Topic2\", \"Topic2\", \"Topic2\", \"Topic2\", \"Topic2\", \"Topic2\", \"Topic2\", \"Topic2\", \"Topic2\", \"Topic2\", \"Topic2\", \"Topic2\", \"Topic2\", \"Topic2\", \"Topic2\", \"Topic2\", \"Topic2\", \"Topic2\", \"Topic2\", \"Topic2\", \"Topic2\", \"Topic2\", \"Topic2\", \"Topic2\", \"Topic2\", \"Topic2\", \"Topic2\", \"Topic2\", \"Topic2\", \"Topic2\", \"Topic2\", \"Topic2\", \"Topic2\", \"Topic2\", \"Topic2\", \"Topic2\", \"Topic2\", \"Topic2\", \"Topic2\", \"Topic2\", \"Topic2\", \"Topic2\", \"Topic2\", \"Topic3\", \"Topic3\", \"Topic3\", \"Topic3\", \"Topic3\", \"Topic3\", \"Topic3\", \"Topic3\", \"Topic3\", \"Topic3\", \"Topic3\", \"Topic3\", \"Topic3\", \"Topic3\", \"Topic3\", \"Topic3\", \"Topic3\", \"Topic3\", \"Topic3\", \"Topic3\", \"Topic3\", \"Topic3\", \"Topic3\", \"Topic3\", \"Topic3\", \"Topic3\", \"Topic3\", \"Topic3\", \"Topic3\", \"Topic3\", \"Topic3\", \"Topic3\", \"Topic3\", \"Topic3\", \"Topic3\", \"Topic3\", \"Topic3\", \"Topic3\", \"Topic3\", \"Topic3\", \"Topic3\", \"Topic3\", \"Topic3\", \"Topic3\", \"Topic3\", \"Topic3\", \"Topic3\", \"Topic3\", \"Topic3\", \"Topic3\", \"Topic3\", \"Topic3\", \"Topic3\", \"Topic3\", \"Topic3\", \"Topic3\", \"Topic3\", \"Topic3\", \"Topic3\", \"Topic3\", \"Topic3\", \"Topic3\", \"Topic3\", \"Topic3\", \"Topic3\", \"Topic3\", \"Topic3\", \"Topic3\", \"Topic3\", \"Topic3\", \"Topic3\", \"Topic3\", \"Topic3\", \"Topic3\", \"Topic3\", \"Topic4\", \"Topic4\", \"Topic4\", \"Topic4\", \"Topic4\", \"Topic4\", \"Topic4\", \"Topic4\", \"Topic4\", \"Topic4\", \"Topic4\", \"Topic4\", \"Topic4\", \"Topic4\", \"Topic4\", \"Topic4\", \"Topic4\", \"Topic4\", \"Topic4\", \"Topic4\", \"Topic4\", \"Topic4\", \"Topic4\", \"Topic4\", \"Topic4\", \"Topic4\", \"Topic4\", \"Topic4\", \"Topic4\", \"Topic4\", \"Topic4\", \"Topic4\", \"Topic4\", \"Topic4\", \"Topic4\", \"Topic4\", \"Topic4\", \"Topic4\", \"Topic4\", \"Topic4\", \"Topic4\", \"Topic4\", \"Topic4\", \"Topic4\", \"Topic4\", \"Topic4\", \"Topic4\", \"Topic4\", \"Topic4\", \"Topic4\", \"Topic4\", \"Topic4\", \"Topic4\", \"Topic4\", \"Topic4\", \"Topic4\", \"Topic4\", \"Topic4\", \"Topic4\", \"Topic4\", \"Topic4\", \"Topic4\", \"Topic4\", \"Topic4\", \"Topic4\", \"Topic4\", \"Topic4\", \"Topic4\", \"Topic4\", \"Topic4\", \"Topic4\", \"Topic4\", \"Topic4\", \"Topic4\", \"Topic4\", \"Topic4\", \"Topic4\", \"Topic4\", \"Topic4\", \"Topic4\"], \"logprob\": [30.0, 29.0, 28.0, 27.0, 26.0, 25.0, 24.0, 23.0, 22.0, 21.0, 20.0, 19.0, 18.0, 17.0, 16.0, 15.0, 14.0, 13.0, 12.0, 11.0, 10.0, 9.0, 8.0, 7.0, 6.0, 5.0, 4.0, 3.0, 2.0, 1.0, -7.75, -7.8087, -7.9317, -7.7968, -7.863, -8.1585, -8.2749, -8.1201, -8.0785, -8.224, -7.9099, -8.4475, -8.2826, -7.7417, -8.456, -8.3239, -7.5929, -8.4831, -8.4414, -8.5155, -7.9913, -8.4452, -8.5244, -8.5002, -8.5308, -8.2133, -8.4113, -8.5829, -8.3412, -8.5909, -7.9037, -7.9947, -8.1803, -7.5693, -7.6735, -7.8036, -7.966, -7.4351, -7.7271, -7.8248, -7.2482, -7.6007, -7.6715, -7.6983, -7.6991, -7.7743, -6.3696, -7.0729, -6.3253, -7.2062, -7.6245, -6.8852, -6.6375, -6.7307, -6.6679, -6.7414, -6.8265, -7.0453, -6.9485, -6.8192, -6.6639, -6.8221, -6.6571, -6.8836, -7.0082, -6.9552, -6.9541, -6.8723, -6.8316, -6.6869, -6.7987, -7.1192, -6.7811, -6.8797, -6.804, -7.0608, -6.9405, -6.885, -6.9417, -7.0011, -7.0407, -7.0269, -7.0373, -7.9275, -7.9931, -7.9733, -7.9886, -8.0014, -8.0191, -8.0038, -8.1731, -8.1879, -8.2216, -7.8436, -8.2823, -7.9007, -8.3177, -7.6848, -8.3999, -8.3529, -8.3768, -8.3872, -8.4121, -8.1054, -8.4823, -8.3721, -8.4456, -8.4734, -8.5203, -8.1574, -7.2962, -8.3663, -8.5359, -7.9679, -7.8349, -7.7001, -8.1109, -7.7458, -7.7041, -7.9967, -6.8132, -7.415, -6.9393, -7.9957, -6.6385, -7.0136, -7.0431, -6.5413, -6.9795, -6.9574, -6.7144, -6.7929, -7.3482, -7.0158, -7.0908, -6.8008, -7.0555, -7.2217, -6.7509, -6.7087, -6.7419, -6.8365, -7.079, -6.8876, -6.8723, -6.8441, -7.011, -6.8899, -6.9091, -6.7569, -7.0224, -6.7708, -6.8825, -6.8857, -6.9915, -7.0329, -6.9767, -7.9485, -8.0312, -7.8508, -8.0207, -8.0902, -8.1474, -8.2509, -7.9718, -8.1457, -8.169, -8.1978, -8.237, -8.1621, -8.3412, -8.288, -8.3694, -8.4615, -8.4503, -8.4532, -8.4644, -8.5008, -7.9784, -8.4675, -8.4288, -8.5074, -8.5478, -8.3743, -8.3704, -8.5199, -8.1453, -7.2502, -7.6307, -8.1792, -7.6759, -8.0828, -7.9655, -8.3665, -7.8601, -7.6748, -8.2388, -7.5461, -7.3004, -7.2165, -7.461, -7.6837, -7.1317, -6.8322, -6.8584, -7.2035, -6.8819, -7.0458, -7.1028, -7.1082, -7.0658, -7.0068, -6.9427, -7.0593, -6.863, -7.1731, -7.0472, -7.1012, -7.0261, -7.164, -7.1192, -7.1997, -7.236, -7.0948, -7.1761, -7.1686, -7.2492, -7.2462, -7.1491, -7.2083, -7.1446, -7.2125, -8.0914, -7.5072, -8.1304, -8.0574, -7.5473, -8.1149, -8.0962, -8.1848, -8.3186, -8.1056, -8.4321, -8.4462, -8.0703, -7.6853, -8.4067, -8.4608, -7.8837, -8.4398, -8.1245, -8.5014, -8.421, -8.398, -8.1158, -8.5303, -8.5246, -8.5236, -8.5149, -8.3672, -8.3774, -8.5382, -7.9875, -8.221, -8.0915, -7.9366, -7.684, -8.3294, -7.3476, -7.9637, -7.3575, -6.5702, -8.0916, -8.2527, -7.5956, -7.7956, -7.4735, -7.9212, -7.0037, -7.7397, -6.7173, -6.8968, -6.7818, -7.5024, -7.0773, -7.0345, -6.8864, -6.9313, -7.2359, -7.3801, -7.0752, -6.8219, -7.0699, -6.9969, -7.0696, -7.1582, -7.3556, -7.1823, -7.2466, -6.9777, -7.1531, -7.0027, -7.0301, -7.0434, -7.1311, -7.1375, -7.188, -7.1079, -7.2105, -7.1931, -7.2615, -7.2504], \"loglift\": [30.0, 29.0, 28.0, 27.0, 26.0, 25.0, 24.0, 23.0, 22.0, 21.0, 20.0, 19.0, 18.0, 17.0, 16.0, 15.0, 14.0, 13.0, 12.0, 11.0, 10.0, 9.0, 8.0, 7.0, 6.0, 5.0, 4.0, 3.0, 2.0, 1.0, 0.7151, 0.7121, 0.7091, 0.6953, 0.6885, 0.6823, 0.6816, 0.6806, 0.6784, 0.6705, 0.6615, 0.6584, 0.6579, 0.6566, 0.6546, 0.6545, 0.6531, 0.6511, 0.65, 0.6471, 0.6455, 0.6444, 0.644, 0.6432, 0.6428, 0.636, 0.6357, 0.6338, 0.6323, 0.6267, 0.6245, 0.6167, 0.6223, 0.5813, 0.5821, 0.5911, 0.6021, 0.555, 0.5765, 0.5856, 0.505, 0.5474, 0.5553, 0.5455, 0.5451, 0.5557, 0.2807, 0.4179, 0.2454, 0.4366, 0.5121, 0.2909, 0.1787, 0.2076, 0.1544, 0.1802, 0.1998, 0.2814, 0.2319, 0.1738, 0.1043, 0.1697, 0.0762, 0.1825, 0.2363, 0.2092, 0.2018, 0.157, 0.1298, 0.0372, 0.0886, 0.2746, 0.0381, 0.1018, 0.0371, 0.23, 0.1175, 0.0592, 0.1072, 0.0896, 0.1378, -0.0065, 0.0958, 1.1005, 1.0882, 1.0797, 1.0723, 1.0586, 1.0573, 1.0543, 1.0507, 1.0501, 1.0256, 1.0248, 1.0241, 1.024, 1.0136, 0.9953, 0.9938, 0.9763, 0.9739, 0.9686, 0.9672, 0.9659, 0.9646, 0.9641, 0.9623, 0.9616, 0.9613, 0.9611, 0.9608, 0.9584, 0.9545, 0.9459, 0.9239, 0.9113, 0.9343, 0.9024, 0.8798, 0.9001, 0.606, 0.7435, 0.6186, 0.8794, 0.4894, 0.4738, 0.4625, 0.1921, 0.3988, 0.364, 0.2267, 0.2607, 0.5461, 0.3491, 0.3718, 0.1806, 0.3385, 0.4524, 0.0682, 0.0154, 0.0263, 0.1017, 0.3039, 0.1328, 0.0719, 0.0432, 0.1948, 0.0714, 0.0827, -0.1066, 0.183, -0.2002, -0.0414, -0.0694, 0.0943, 0.1275, -0.1544, 1.5142, 1.4906, 1.4851, 1.4818, 1.4433, 1.4109, 1.3926, 1.3867, 1.3864, 1.3861, 1.3751, 1.3751, 1.3645, 1.3617, 1.3597, 1.3344, 1.3273, 1.3248, 1.3227, 1.3223, 1.3169, 1.3117, 1.303, 1.3023, 1.2985, 1.2941, 1.2925, 1.2912, 1.2884, 1.2857, 1.2704, 1.266, 1.2712, 1.1875, 1.234, 1.1665, 1.2847, 1.0351, 0.8596, 1.1841, 0.7148, 0.5132, 0.4059, 0.581, 0.7555, 0.2851, 0.0089, -0.036, 0.2635, -0.1577, 0.0078, 0.0576, 0.0469, -0.0077, -0.0852, -0.1745, -0.0301, -0.2924, 0.1045, -0.0859, -0.0154, -0.1388, 0.0534, -0.0285, 0.1067, 0.1671, -0.2785, -0.1273, -0.1482, 0.0335, -0.0188, -0.3299, -0.1819, -0.4943, -0.2196, 1.4692, 1.4523, 1.4501, 1.4494, 1.4337, 1.4273, 1.4135, 1.4065, 1.3897, 1.3824, 1.3429, 1.3414, 1.339, 1.3358, 1.3327, 1.3263, 1.3223, 1.3219, 1.3212, 1.3138, 1.3092, 1.3064, 1.3046, 1.3034, 1.2991, 1.2986, 1.2915, 1.2911, 1.2904, 1.2871, 1.2845, 1.284, 1.2755, 1.2536, 1.2179, 1.2612, 0.841, 1.1044, 0.82, 0.3709, 1.1474, 1.2284, 0.854, 0.9552, 0.7433, 1.0024, 0.3612, 0.8603, 0.0069, 0.1521, 0.0374, 0.6419, 0.2245, 0.1713, -0.0453, -0.0097, 0.3055, 0.4651, 0.0892, -0.2513, 0.0632, -0.0526, 0.0211, 0.1323, 0.4117, 0.1315, 0.2088, -0.2443, 0.0363, -0.2345, -0.2077, -0.2271, -0.1107, -0.2502, -0.1219, -0.4576, -0.0483, -0.1639, -0.0734, -0.2575]}, \"token.table\": {\"Topic\": [1, 2, 3, 4, 1, 2, 3, 4, 1, 2, 3, 4, 1, 2, 3, 4, 1, 2, 3, 4, 1, 2, 3, 4, 1, 2, 3, 4, 1, 2, 3, 4, 1, 2, 3, 4, 1, 2, 3, 4, 1, 2, 3, 4, 1, 2, 3, 4, 1, 2, 3, 4, 1, 2, 3, 4, 1, 2, 3, 4, 1, 2, 3, 4, 1, 2, 3, 4, 1, 2, 3, 4, 1, 2, 3, 4, 1, 2, 3, 4, 1, 2, 3, 4, 1, 2, 3, 4, 1, 2, 3, 4, 1, 2, 3, 4, 1, 2, 3, 4, 1, 2, 3, 4, 1, 2, 3, 4, 1, 2, 3, 4, 1, 2, 3, 4, 1, 2, 3, 4, 1, 2, 3, 4, 1, 2, 3, 4, 1, 2, 3, 4, 1, 2, 3, 4, 1, 2, 3, 4, 1, 2, 3, 4, 1, 2, 3, 4, 1, 2, 3, 4, 1, 2, 3, 4, 1, 2, 3, 4, 1, 2, 3, 4, 1, 2, 3, 4, 1, 2, 3, 4, 1, 2, 3, 4, 1, 2, 3, 4, 1, 2, 3, 4, 1, 2, 3, 4, 1, 2, 3, 4, 1, 2, 3, 4, 1, 2, 3, 4, 1, 2, 3, 4, 1, 2, 3, 4, 1, 2, 3, 4, 1, 2, 3, 4, 1, 2, 3, 4, 1, 2, 3, 4, 1, 2, 3, 4, 1, 2, 3, 4, 1, 2, 3, 4, 1, 2, 3, 4, 1, 2, 3, 4, 1, 2, 3, 4, 1, 2, 3, 4, 1, 2, 3, 4, 1, 2, 3, 4, 1, 2, 3, 4, 1, 2, 3, 4, 1, 2, 3, 4, 1, 2, 3, 4, 1, 2, 3, 4, 1, 2, 3, 4, 1, 2, 3, 4, 1, 2, 3, 4, 1, 2, 3, 4, 1, 2, 3, 4, 1, 2, 3, 4, 1, 2, 3, 4, 1, 2, 3, 4, 1, 2, 3, 4, 1, 2, 3, 4, 1, 2, 3, 4, 1, 2, 3, 4, 1, 2, 3, 4, 1, 2, 3, 4, 1, 2, 3, 4, 1, 2, 3, 4, 1, 2, 3, 4, 1, 2, 3, 4, 1, 2, 3, 4, 1, 2, 3, 4, 1, 2, 3, 4, 1, 2, 3, 4, 1, 2, 3, 4, 1, 2, 3, 4, 1, 2, 3, 4, 1, 2, 3, 4, 1, 2, 3, 4, 1, 2, 3, 4, 1, 2, 3, 4, 1, 2, 3, 4, 1, 2, 3, 4, 1, 2, 3, 4, 1, 2, 3, 4, 1, 2, 3, 4, 1, 2, 3, 4, 1, 2, 3, 4, 1, 2, 3, 4, 1, 2, 3, 4, 1, 2, 3, 4, 1, 2, 3, 4, 1, 2, 3, 4, 1, 2, 3, 4, 1, 2, 3, 4, 1, 2, 3, 4, 1, 2, 3, 4, 1, 2, 3, 4, 1, 2, 3, 4, 1, 2, 3, 4, 1, 2, 3, 4, 1, 2, 3, 4, 1, 2, 3, 4, 1, 2, 3, 4, 1, 2, 3, 4, 1, 2, 3, 4, 1, 2, 3, 4, 1, 2, 3, 4, 1, 2, 3, 4, 1, 2, 3, 4, 1, 2, 3, 4, 1, 2, 3, 4, 1, 2, 3, 4, 1, 2, 3, 4, 1, 2, 3, 4, 1, 2, 3, 4, 1, 2, 3, 4, 1, 2, 3, 4, 1, 2, 3, 4, 1, 2, 3, 4, 1, 2, 3, 4, 1, 2, 3, 4, 1, 2, 3, 4, 1, 2, 3, 4, 1, 2, 3, 4, 1, 2, 3, 4, 1, 2, 3, 4, 1, 2, 3, 4, 1, 2, 3, 4, 1, 2, 3, 4, 1, 2, 3, 4, 1, 2, 3, 4, 1, 2, 3, 4, 1, 2, 3, 4, 1, 2, 3, 4, 1, 2, 3, 4, 1, 2, 3, 4, 1, 2, 3, 4, 1, 2, 3, 4, 1, 2, 3, 4, 1, 2, 3, 4, 1, 2, 3, 4, 1, 2, 3, 4, 1, 2, 3, 4, 1, 2, 3, 4, 1, 2, 3, 4, 1, 2, 3, 4, 1, 2, 3, 4, 1, 2, 3, 4, 1, 2, 3, 4, 1, 2, 3, 4, 1, 2, 3, 4, 1, 2, 3, 4, 1, 2, 3, 4, 1, 2, 3, 4, 1, 2, 3, 4, 1, 2, 3, 4, 1, 2, 3, 4, 1, 2, 3, 4, 1, 2, 3, 4, 1, 2, 3, 4, 1, 2, 3, 4, 1, 2, 3, 4, 1, 2, 3, 4, 1, 2, 3, 4, 1, 2, 3, 4, 1, 2, 3, 4, 1, 2, 3, 4, 1, 2, 3, 4, 1, 2, 3, 4, 1, 2, 3, 4, 1, 2, 3, 4, 1, 2, 3, 4, 1, 2, 3, 4, 1, 2, 3, 4, 1, 2, 3, 4, 1, 2, 3, 4, 1, 2, 3, 4, 1, 2, 3, 4, 1, 2, 3, 4, 1, 2, 3, 4, 1, 2, 3, 4, 1, 2, 3, 4, 1, 2, 3, 4, 1, 2, 3, 4, 1, 2, 3, 4, 1, 2, 3, 4, 1, 2, 3, 4, 1, 2, 3, 4, 1, 2, 3, 4, 1, 2, 3, 4, 1, 2, 3, 4, 1, 2, 3, 4, 1, 2, 3, 4, 1, 2, 3, 4, 1, 2, 3, 4, 1, 2, 3, 4, 1, 2, 3, 4, 1, 2, 3, 4, 1, 2, 3, 4, 1, 2, 3, 4, 1, 2, 3, 4, 1, 2, 3, 4, 1, 2, 3, 4, 1, 2, 3, 4, 1, 2, 3, 4, 1, 2, 3, 4, 1, 2, 3, 4, 1, 2, 3, 4, 1, 2, 3, 4, 1, 2, 3, 4, 1, 2, 3, 4, 1, 2, 3, 4, 1, 2, 3, 4, 1, 2, 3, 4, 1, 2, 3, 4, 1, 2, 3, 4, 1, 2, 3, 4, 1, 2, 3, 4, 1, 2, 3, 4, 1, 2, 3, 4, 1, 2, 3, 4, 1, 2, 3, 4, 1, 2, 3, 4, 1, 2, 3, 4, 1, 2, 3, 4, 1, 2, 3, 4, 1, 2, 3, 4, 1, 2, 3, 4, 1, 2, 3, 4, 1, 2, 3, 4, 1, 2, 3, 4, 1, 2, 3, 4, 1, 2, 3, 4, 1, 2, 3, 4, 1, 2, 3, 4, 1, 2, 3, 4], \"Freq\": [0.857584908831191, 0.06596806991009162, 0.06596806991009162, 0.06596806991009162, 0.3898717595954544, 0.34988491245745906, 0.14995067676748247, 0.10996382962948714, 0.1922028094903753, 0.09610140474518765, 0.48050702372593823, 0.1922028094903753, 0.23089742419919812, 0.6465127877577548, 0.04617948483983962, 0.04617948483983962, 0.8276249104160179, 0.04868381825976576, 0.04868381825976576, 0.04868381825976576, 0.4917193120613923, 0.25157732245001463, 0.1143533283863703, 0.13722399406364436, 0.15763634781316982, 0.7093635651592642, 0.07881817390658491, 0.07881817390658491, 0.8069308296537936, 0.09493303878279924, 0.09493303878279924, 0.04746651939139962, 0.20038375208395334, 0.10019187604197667, 0.6011512562518601, 0.10019187604197667, 0.3581948768665799, 0.34191329155446265, 0.09768951187270361, 0.19537902374540722, 0.4710345385318514, 0.2590689961925183, 0.1530862250228517, 0.11775863463296285, 0.1251082237403566, 0.1251082237403566, 0.1251082237403566, 0.625541118701783, 0.7085901605434541, 0.20667213015850744, 0.02952459002264392, 0.05904918004528784, 0.7243822723754427, 0.2012172978820674, 0.04024345957641348, 0.04024345957641348, 0.5446999948846061, 0.2496541643221111, 0.1134791656009596, 0.09078333248076767, 0.5252747616687248, 0.2529100704330897, 0.12645503521654486, 0.09727310401272682, 0.03735796402372099, 0.4856535323083729, 0.14943185609488396, 0.2988637121897679, 0.21863899829942715, 0.10931949914971358, 0.10931949914971358, 0.5465974957485679, 0.09750625506857723, 0.7800500405486178, 0.09750625506857723, 0.09750625506857723, 0.3160786949684837, 0.4276358814279485, 0.055778593229732415, 0.20452150850901885, 0.14867048019336462, 0.8176876410635054, 0.07433524009668231, 0.07433524009668231, 0.4983421055756232, 0.27182296667761263, 0.10193361250410475, 0.1245855263939058, 0.07440331808142804, 0.8184364988957085, 0.07440331808142804, 0.07440331808142804, 0.2713329257276365, 0.13566646286381825, 0.542665851455273, 0.13566646286381825, 0.8713701723409452, 0.06702847479545732, 0.06702847479545732, 0.06702847479545732, 0.8328408303476755, 0.08328408303476756, 0.08328408303476756, 0.08328408303476756, 0.13737797922871342, 0.06868898961435671, 0.13737797922871342, 0.6182009065292104, 0.15196375612087137, 0.15196375612087137, 0.15196375612087137, 0.6078550244834855, 0.38914610219992607, 0.19457305109996303, 0.06485768369998768, 0.38914610219992607, 0.34761152677513885, 0.5131408252394907, 0.06621171938574073, 0.08276464923217591, 0.0896443957370082, 0.7171551658960656, 0.0896443957370082, 0.0896443957370082, 0.8006118788718292, 0.08006118788718292, 0.08006118788718292, 0.08006118788718292, 0.531534017861811, 0.2546933835587844, 0.12180987909333167, 0.09966262834908955, 0.783223488815153, 0.08702483209057256, 0.08702483209057256, 0.08702483209057256, 0.28304644318082417, 0.14152322159041208, 0.5660928863616483, 0.14152322159041208, 0.18713835559018496, 0.09356917779509248, 0.5614150667705549, 0.18713835559018496, 0.12357205099682467, 0.6796462804825356, 0.061786025498412334, 0.12357205099682467, 0.4791302738134207, 0.24513641916035478, 0.13371077408746623, 0.1448533385947551, 0.7726906076861392, 0.0909047773748399, 0.04545238868741995, 0.0909047773748399, 0.8190178213699535, 0.0630013708746118, 0.0630013708746118, 0.0630013708746118, 0.14649244265273667, 0.6592159919373151, 0.07324622132636834, 0.14649244265273667, 0.5074473345077039, 0.3007095315601208, 0.09397172861253775, 0.09397172861253775, 0.8284443575921353, 0.08284443575921353, 0.08284443575921353, 0.08284443575921353, 0.7784886348778824, 0.059883741144452496, 0.08982561171667874, 0.08982561171667874, 0.4214870202646781, 0.3793383182382103, 0.1123965387372475, 0.08429740405293562, 0.44842646004965275, 0.32030461432118057, 0.05124873829138889, 0.1793705840198611, 0.7523010154632432, 0.10747157363760618, 0.03582385787920206, 0.07164771575840412, 0.11796681294641953, 0.11796681294641953, 0.7078008776785172, 0.11796681294641953, 0.11987756536547343, 0.47951026146189374, 0.3196735076412625, 0.07991837691031563, 0.4940418263205833, 0.2153515653192286, 0.12667739136425213, 0.16468060877352778, 0.8430102247137303, 0.12043003210196147, 0.06021501605098074, 0.06021501605098074, 0.7394849763075486, 0.07649844582491883, 0.07649844582491883, 0.07649844582491883, 0.40121838432352436, 0.23404405752205587, 0.30091378824264325, 0.0334348653602937, 0.756170224294983, 0.06575393254738983, 0.13150786509477966, 0.032876966273694914, 0.15406186325497245, 0.15406186325497245, 0.6162474530198898, 0.15406186325497245, 0.313873610262753, 0.38210700379813406, 0.09552675094953351, 0.21834685931321948, 0.8799192508882037, 0.048884402827122427, 0.048884402827122427, 0.048884402827122427, 0.4836188816223082, 0.18135708060836556, 0.1964701706590627, 0.13601781045627417, 0.15930099019788724, 0.15930099019788724, 0.15930099019788724, 0.47790297059366166, 0.1010442482755513, 0.30313274482665387, 0.1010442482755513, 0.5052212413777565, 0.5762933077521026, 0.23729724436851282, 0.11299868779452991, 0.07909908145617095, 0.3856412801070877, 0.4319182337199382, 0.10797955842998455, 0.07712825602141754, 0.8071345392601722, 0.0733758672054702, 0.0733758672054702, 0.0733758672054702, 0.44628942670188176, 0.1785157706807527, 0.08925788534037635, 0.26777365602112907, 0.3491928027142967, 0.32591328253334356, 0.13967712108571867, 0.17459640135714835, 0.12844560108800973, 0.7064508059840535, 0.12844560108800973, 0.06422280054400487, 0.44492655131434294, 0.31144858592004004, 0.15572429296002002, 0.08898531026286859, 0.5174514852160944, 0.25402163819699175, 0.12230671468744049, 0.11289850586532968, 0.5162321624551306, 0.2429327823318262, 0.111344191902087, 0.1315885904297392, 0.44581183717921347, 0.2732395131098405, 0.1294292430520297, 0.15100078356070135, 0.47806092605144446, 0.22409105908661459, 0.10457582757375347, 0.17927284726929169, 0.8561404592191146, 0.07783095083810133, 0.07783095083810133, 0.07783095083810133, 0.8234145827420094, 0.03293658330968038, 0.09880974992904114, 0.03293658330968038, 0.23201225855159255, 0.23201225855159255, 0.11600612927579627, 0.5800306463789814, 0.8847404734289736, 0.04213049873471302, 0.04213049873471302, 0.04213049873471302, 0.534461239871477, 0.3028613692605036, 0.08907687331191283, 0.08016918598072155, 0.0759357638056247, 0.8352934018618716, 0.0759357638056247, 0.0759357638056247, 0.4335834241027057, 0.2993790309280587, 0.14452780803423523, 0.12388097831505877, 0.09686154872988548, 0.6780308411091983, 0.09686154872988548, 0.09686154872988548, 0.666674866562667, 0.16216415673145954, 0.07207295854731535, 0.09009119818414418, 0.26760761060014976, 0.13380380530007488, 0.5352152212002995, 0.13380380530007488, 0.06493238176926237, 0.7791885812311485, 0.12986476353852475, 0.06493238176926237, 0.07381233834792375, 0.8119357218271612, 0.07381233834792375, 0.07381233834792375, 0.33944663476039194, 0.33944663476039194, 0.10719367413486063, 0.21438734826972125, 0.33544339980750415, 0.31778848402816184, 0.22951390513145023, 0.1412393262347386, 0.08882483847232397, 0.7994235462509158, 0.08882483847232397, 0.08882483847232397, 0.48092659048449743, 0.2780356851238501, 0.12774612559744464, 0.12023164762112436, 0.14214803326215797, 0.14214803326215797, 0.14214803326215797, 0.5685921330486319, 0.5647860811130124, 0.2495566404917962, 0.09194192018118807, 0.09194192018118807, 0.5124842417652207, 0.25229993440749326, 0.11038122130327829, 0.11826559425351246, 0.13004096817915825, 0.173387957572211, 0.520163872716633, 0.21673494696526374, 0.3491798088039679, 0.2417398676335162, 0.26859985292612915, 0.16115991175567748, 0.20168977627735699, 0.13445985085157133, 0.06722992542578567, 0.605069328832071, 0.4762212215357799, 0.2814034490893245, 0.08658567664286908, 0.1623481437053795, 0.22554466272116278, 0.7518155424038759, 0.07518155424038758, 0.07518155424038758, 0.843793026883444, 0.076708456989404, 0.076708456989404, 0.076708456989404, 0.1223577681146546, 0.1223577681146546, 0.611788840573273, 0.1223577681146546, 0.11852637874232738, 0.23705275748465476, 0.5926318937116369, 0.11852637874232738, 0.3994311044650954, 0.07988622089301908, 0.4793173253581145, 0.07988622089301908, 0.12636376869994348, 0.25272753739988696, 0.12636376869994348, 0.5054550747997739, 0.48195296742515287, 0.2710985441766485, 0.15061030232036027, 0.10040686821357352, 0.28600257677725044, 0.07150064419431261, 0.07150064419431261, 0.5720051535545009, 0.8236558615764258, 0.08236558615764258, 0.08236558615764258, 0.08236558615764258, 0.12274831136607456, 0.7364898681964474, 0.06137415568303728, 0.06137415568303728, 0.19460041945335518, 0.6811014680867431, 0.09730020972667759, 0.09730020972667759, 0.8358693585872703, 0.05970495418480502, 0.05970495418480502, 0.05970495418480502, 0.15198397564370852, 0.15198397564370852, 0.6079359025748341, 0.15198397564370852, 0.2923658571096605, 0.3986807142404461, 0.07973614284808922, 0.2657871428269641, 0.10230079158143925, 0.7161055410700747, 0.10230079158143925, 0.10230079158143925, 0.07199900018368362, 0.7919890020205198, 0.07199900018368362, 0.07199900018368362, 0.32298915349076496, 0.16149457674538248, 0.16149457674538248, 0.36336279767711055, 0.09941723814005624, 0.6959206669803937, 0.09941723814005624, 0.09941723814005624, 0.27160313171670364, 0.5733843891797077, 0.0905343772389012, 0.06035625149260081, 0.2730162319331766, 0.1365081159665883, 0.1365081159665883, 0.5460324638663532, 0.1720442071414086, 0.0860221035707043, 0.1720442071414086, 0.5161326214242259, 0.8422865545375204, 0.07657150495795641, 0.07657150495795641, 0.07657150495795641, 0.8670563278358834, 0.04335281639179417, 0.04335281639179417, 0.04335281639179417, 0.41912791813184225, 0.22059364112202223, 0.11029682056101112, 0.24265300523422445, 0.21318868719544007, 0.10659434359772003, 0.10659434359772003, 0.5329717179886001, 0.055006799852744356, 0.6600815982329323, 0.055006799852744356, 0.16502039955823308, 0.5043268565820901, 0.06304085707276126, 0.44128599950932884, 0.06304085707276126, 0.07556894752300333, 0.7556894752300334, 0.07556894752300333, 0.07556894752300333, 0.12626718129624537, 0.3156679532406134, 0.5050687251849815, 0.06313359064812268, 0.21082821855763134, 0.10541410927881567, 0.10541410927881567, 0.5270705463940784, 0.7825557972050642, 0.08695064413389603, 0.08695064413389603, 0.08695064413389603, 0.11119970991094576, 0.11119970991094576, 0.6671982594656746, 0.11119970991094576, 0.499736618445329, 0.23003749103038956, 0.1427818909843797, 0.11898490915364977, 0.5020027559964723, 0.2445654452290506, 0.1673342519988241, 0.09010305876859759, 0.1262832716613879, 0.6945579941376333, 0.1262832716613879, 0.06314163583069395, 0.47022614478355196, 0.14961740970385742, 0.2564869880637556, 0.14961740970385742, 0.41681977569549467, 0.3751377981259452, 0.09725794766228209, 0.12504593270864842, 0.4740285145405474, 0.2878030266853323, 0.1269719235376466, 0.11850712863513685, 0.3455883701095304, 0.439839743775766, 0.1099599359439415, 0.1099599359439415, 0.42520351325023753, 0.26262569936044083, 0.1625778138897967, 0.15007182820596618, 0.12039553323428206, 0.12039553323428206, 0.12039553323428206, 0.6019776661714104, 0.14839424049417768, 0.8161683227179773, 0.07419712024708884, 0.07419712024708884, 0.15208968798046354, 0.15208968798046354, 0.6083587519218542, 0.15208968798046354, 0.15374043793108252, 0.15374043793108252, 0.6149617517243301, 0.15374043793108252, 0.5488837283560866, 0.22202038450358558, 0.11101019225179279, 0.11717742515467017, 0.8235123447837656, 0.05490082298558437, 0.05490082298558437, 0.05490082298558437, 0.8080557089068162, 0.08080557089068163, 0.08080557089068163, 0.08080557089068163, 0.10945938594924327, 0.766215701644703, 0.10945938594924327, 0.10945938594924327, 0.6500689991444121, 0.18573399975554633, 0.07738916656481097, 0.06191133325184877, 0.1998566700258908, 0.6994983450906178, 0.0999283350129454, 0.0999283350129454, 0.24428678399442372, 0.1832150879958178, 0.48857356798884743, 0.06107169599860593, 0.8046132379791975, 0.05747237414137125, 0.05747237414137125, 0.05747237414137125, 0.45700529214886537, 0.2957093066845599, 0.10753065697620362, 0.14337420930160483, 0.46685505093484775, 0.22824024712370333, 0.14524379362417486, 0.15561835031161592, 0.3955086903227636, 0.2197270501793131, 0.351563280286901, 0.04394541003586262, 0.12645770068423917, 0.12645770068423917, 0.12645770068423917, 0.6322885034211959, 0.5072925816386357, 0.22437941110939655, 0.14633439854960645, 0.12682314540965892, 0.18986290384782561, 0.6645201634673896, 0.09493145192391281, 0.047465725961956404, 0.14530767059674116, 0.14530767059674116, 0.14530767059674116, 0.5812306823869646, 0.17781391786475895, 0.3556278357295179, 0.08890695893237947, 0.4445347946618973, 0.5676830158756662, 0.24710907749881938, 0.09350073202658031, 0.09350073202658031, 0.15710441179230528, 0.15710441179230528, 0.47131323537691583, 0.15710441179230528, 0.12415555984628532, 0.12415555984628532, 0.6207777992314266, 0.12415555984628532, 0.8604088196522512, 0.05736058797681675, 0.05736058797681675, 0.05736058797681675, 0.5618869399919109, 0.18261325549737104, 0.12642456149817993, 0.11237738799838216, 0.14542517784797906, 0.14542517784797906, 0.5817007113919163, 0.14542517784797906, 0.5438440273285371, 0.06398165027394555, 0.09597247541091831, 0.3199082513697277, 0.47766937405645765, 0.2765454270853176, 0.15084296022835506, 0.08799172679987378, 0.4743243532633143, 0.32551671302384316, 0.09300477514966947, 0.10230525266463641, 0.8611746738815095, 0.0410083178038814, 0.0410083178038814, 0.0410083178038814, 0.0951039981822089, 0.7608319854576712, 0.0951039981822089, 0.0951039981822089, 0.16933998448976129, 0.16933998448976129, 0.16933998448976129, 0.5080199534692839, 0.1193560064723126, 0.1193560064723126, 0.5967800323615631, 0.1193560064723126, 0.35297735797108076, 0.40728156688970857, 0.027152104459313906, 0.24436894013382515, 0.29975865398830115, 0.14987932699415057, 0.07493966349707529, 0.4496379809824517, 0.2582142599708925, 0.12910712998544624, 0.6455356499272311, 0.12910712998544624, 0.1525310005582179, 0.7626550027910894, 0.0508436668527393, 0.0508436668527393, 0.11620661788689719, 0.11620661788689719, 0.11620661788689719, 0.581033089434486, 0.19591580890047047, 0.09795790445023524, 0.6857053311516467, 0.09795790445023524, 0.8181534781225104, 0.06817945651020921, 0.06817945651020921, 0.06817945651020921, 0.3596001729768938, 0.40109250062807383, 0.09681543118608679, 0.13830775883726684, 0.12264103563338058, 0.12264103563338058, 0.12264103563338058, 0.6132051781669029, 0.15550320706586918, 0.40430833837125985, 0.09330192423952151, 0.34210705554491216, 0.153873645113711, 0.153873645113711, 0.153873645113711, 0.615494580454844, 0.3295280767114509, 0.1098426922371503, 0.5492134611857515, 0.1098426922371503, 0.10816126330586791, 0.7571288431410754, 0.10816126330586791, 0.10816126330586791, 0.1597846398888342, 0.1597846398888342, 0.1597846398888342, 0.47935391966650265, 0.10379129739352491, 0.7265390817546743, 0.10379129739352491, 0.10379129739352491, 0.15859108162793834, 0.15859108162793834, 0.475773244883815, 0.15859108162793834, 0.11405084687875107, 0.22810169375750214, 0.11405084687875107, 0.5702542343937553, 0.23837743039814005, 0.11918871519907002, 0.5959435759953502, 0.11918871519907002, 0.44211450900369964, 0.3257685855816734, 0.11634592342202621, 0.11634592342202621, 0.3457903571374325, 0.5042776041587557, 0.07203965773696511, 0.07203965773696511, 0.11331954427005657, 0.6799172656203395, 0.11331954427005657, 0.11331954427005657, 0.0545684658525146, 0.3274107951150876, 0.2182738634100584, 0.3819792609676022, 0.5444741908855467, 0.2540879557465885, 0.12099426464123261, 0.08469598524886283, 0.3880824503506829, 0.2587216335671219, 0.2012279372188726, 0.1581076649576856, 0.08756473801473513, 0.7880826421326163, 0.08756473801473513, 0.08756473801473513, 0.7649273809819325, 0.13303084886642302, 0.06651542443321151, 0.033257712216605756, 0.38077911374809137, 0.0634631856246819, 0.0634631856246819, 0.5077054849974552, 0.15381825631574259, 0.15381825631574259, 0.15381825631574259, 0.6152730252629703, 0.21546342119052284, 0.21546342119052284, 0.538658552976307, 0.10773171059526142, 0.7862245914524771, 0.08735828793916413, 0.08735828793916413, 0.043679143969582064, 0.10685233102369494, 0.2137046620473899, 0.5342616551184748, 0.2137046620473899, 0.09188777018387681, 0.18377554036775362, 0.18377554036775362, 0.5513266211032609, 0.1052618191826448, 0.7368327342785136, 0.1052618191826448, 0.1052618191826448, 0.43954584644462824, 0.26939906717573986, 0.17014677926888835, 0.1134311861792589, 0.26852034712505585, 0.13426017356252792, 0.5370406942501117, 0.13426017356252792, 0.159548440366011, 0.159548440366011, 0.159548440366011, 0.4786453210980331, 0.3877687431944818, 0.26531545586990857, 0.1224532873245732, 0.2244976934283842, 0.5360550871232131, 0.20102065767120492, 0.10051032883560246, 0.15634940041093717, 0.09797999612689824, 0.6858599728882877, 0.09797999612689824, 0.09797999612689824, 0.776436870188251, 0.0776436870188251, 0.11646553052823765, 0.03882184350941255, 0.1416107125475522, 0.1416107125475522, 0.1416107125475522, 0.5664428501902088, 0.8208959047306335, 0.0912106560811815, 0.04560532804059075, 0.04560532804059075, 0.7643608074070417, 0.07643608074070417, 0.038218040370352084, 0.07643608074070417, 0.14138987598671032, 0.14138987598671032, 0.5655595039468413, 0.14138987598671032, 0.16114058718678517, 0.16114058718678517, 0.16114058718678517, 0.48342176156035555, 0.46446491405183443, 0.333834156974756, 0.08708717138471896, 0.11611622851295861, 0.16248298007010578, 0.16248298007010578, 0.48744894021031737, 0.16248298007010578, 0.1512793024094171, 0.1512793024094171, 0.6051172096376684, 0.1512793024094171, 0.7431323864476936, 0.16155051879297688, 0.032310103758595374, 0.032310103758595374, 0.11432490708784519, 0.6859494425270711, 0.11432490708784519, 0.11432490708784519, 0.1665120468342013, 0.6993505967036454, 0.03330240936684026, 0.09990722810052077, 0.4809197851849609, 0.27481130581997765, 0.09160376860665922, 0.14885612398582124, 0.843849092361384, 0.11507033077655235, 0.03835677692551745, 0.03835677692551745, 0.3160202504444986, 0.3912631672169983, 0.15048583354499934, 0.15048583354499934, 0.7675519713784335, 0.10466617791524092, 0.06977745194349394, 0.06977745194349394, 0.04924368378401187, 0.6894115729761662, 0.14773105135203562, 0.14773105135203562, 0.2331170826422881, 0.11655854132114404, 0.11655854132114404, 0.5827927066057202, 0.32300826277794037, 0.4414446257965185, 0.10766942092598013, 0.11843636301857814, 0.2265318335713711, 0.11326591678568555, 0.11326591678568555, 0.4530636671427422, 0.2439240442153468, 0.1219620221076734, 0.6098101105383671, 0.1219620221076734, 0.8222082545481998, 0.06851735454568332, 0.06851735454568332, 0.06851735454568332, 0.4922111574341206, 0.2916806858868863, 0.13672532150947794, 0.08203519290568677, 0.13323895090450433, 0.13323895090450433, 0.5329558036180173, 0.13323895090450433, 0.5448666324166922, 0.2914402917577656, 0.07602790219767798, 0.08869921923062431, 0.44454028568391657, 0.25864162076155145, 0.1454859116783727, 0.1454859116783727, 0.15819415141651758, 0.15819415141651758, 0.15819415141651758, 0.4745824542495527, 0.20855438640385518, 0.4634541920085671, 0.20855438640385518, 0.11586354800214177, 0.7466668804031589, 0.1493333760806318, 0.02986667521612636, 0.05973335043225272, 0.8493641552526862, 0.08940675318449327, 0.04470337659224664, 0.04470337659224664, 0.15681788614618147, 0.15681788614618147, 0.15681788614618147, 0.4704536584385445, 0.48766103786967036, 0.2735659480732297, 0.14273005986429377, 0.09515337324286251, 0.3075709287725862, 0.3075709287725862, 0.06151418575451724, 0.3383280216498448, 0.3754322550210151, 0.18771612751050756, 0.09385806375525378, 0.32850322314338826, 0.7558615281325901, 0.09859063410425088, 0.06572708940283392, 0.09859063410425088, 0.15672562770549836, 0.15672562770549836, 0.4701768831164951, 0.15672562770549836, 0.1157170181487036, 0.1157170181487036, 0.6943021088922215, 0.1157170181487036, 0.4775545679606153, 0.21887917698194867, 0.1293376954893333, 0.16913390948605125, 0.4668248745482313, 0.24637979490045542, 0.11670621863705782, 0.16857564914241685, 0.272733751052424, 0.136366875526212, 0.545467502104848, 0.136366875526212, 0.14665045115824624, 0.14665045115824624, 0.14665045115824624, 0.586601804632985, 0.37894212926693666, 0.3920090992416586, 0.10453575979777563, 0.13066969974721954, 0.2704534706618303, 0.13522673533091514, 0.13522673533091514, 0.5409069413236606, 0.42549148130174413, 0.3094483500376321, 0.12571339220278804, 0.13538365314146403, 0.5168665989703644, 0.20149036909014204, 0.1401672132800988, 0.14892766411010497, 0.860095937181676, 0.07819053974378873, 0.07819053974378873, 0.07819053974378873, 0.4646773907607817, 0.2655299375775895, 0.15489246358692724, 0.1106374739906623, 0.45071163778239753, 0.29256720347278437, 0.10279388230124856, 0.1502372125941325, 0.14994648534652846, 0.14994648534652846, 0.14994648534652846, 0.5997859413861139], \"Term\": [\"achieve\", \"achieve\", \"achieve\", \"achieve\", \"agent\", \"agent\", \"agent\", \"agent\", \"ajay\", \"ajay\", \"ajay\", \"ajay\", \"always\", \"always\", \"always\", \"always\", \"amazon\", \"amazon\", \"amazon\", \"amazon\", \"american\", \"american\", \"american\", \"american\", \"amount\", \"amount\", \"amount\", \"amount\", \"amp\", \"amp\", \"amp\", \"amp\", \"arjun\", \"arjun\", \"arjun\", \"arjun\", \"attempt\", \"attempt\", \"attempt\", \"attempt\", \"back\", \"back\", \"back\", \"back\", \"backdrop\", \"backdrop\", \"backdrop\", \"backdrop\", \"bandit\", \"bandit\", \"bandit\", \"bandit\", \"bank\", \"bank\", \"bank\", \"bank\", \"battle\", \"battle\", \"battle\", \"battle\", \"become\", \"become\", \"become\", \"become\", \"biker\", \"biker\", \"biker\", \"biker\", \"bobby\", \"bobby\", \"bobby\", \"bobby\", \"boomer\", \"boomer\", \"boomer\", \"boomer\", \"boss\", \"boss\", \"boss\", \"boss\", \"briefcase\", \"briefcase\", \"briefcase\", \"briefcase\", \"brother\", \"brother\", \"brother\", \"brother\", \"burt\", \"burt\", \"burt\", \"burt\", \"cannibal\", \"cannibal\", \"cannibal\", \"cannibal\", \"cannon\", \"cannon\", \"cannon\", \"cannon\", \"cave\", \"cave\", \"cave\", \"cave\", \"cell\", \"cell\", \"cell\", \"cell\", \"chair\", \"chair\", \"chair\", \"chair\", \"charles\", \"charles\", \"charles\", \"charles\", \"child\", \"child\", \"child\", \"child\", \"cho\", \"cho\", \"cho\", \"cho\", \"chung\", \"chung\", \"chung\", \"chung\", \"city\", \"city\", \"city\", \"city\", \"cleopatra\", \"cleopatra\", \"cleopatra\", \"cleopatra\", \"climber\", \"climber\", \"climber\", \"climber\", \"clone\", \"clone\", \"clone\", \"clone\", \"club\", \"club\", \"club\", \"club\", \"come\", \"come\", \"come\", \"come\", \"commando\", \"commando\", \"commando\", \"commando\", \"complicated\", \"complicated\", \"complicated\", \"complicated\", \"cool\", \"cool\", \"cool\", \"cool\", \"cop\", \"cop\", \"cop\", \"cop\", \"corey\", \"corey\", \"corey\", \"corey\", \"couple\", \"couple\", \"couple\", \"couple\", \"crime\", \"crime\", \"crime\", \"crime\", \"criminal\", \"criminal\", \"criminal\", \"criminal\", \"cyborg\", \"cyborg\", \"cyborg\", \"cyborg\", \"dan\", \"dan\", \"dan\", \"dan\", \"david\", \"david\", \"david\", \"david\", \"death\", \"death\", \"death\", \"death\", \"deathstalker\", \"deathstalker\", \"deathstalker\", \"deathstalker\", \"defeat\", \"defeat\", \"defeat\", \"defeat\", \"diamond\", \"diamond\", \"diamond\", \"diamond\", \"direct\", \"direct\", \"direct\", \"direct\", \"donna\", \"donna\", \"donna\", \"donna\", \"drug\", \"drug\", \"drug\", \"drug\", \"eagle\", \"eagle\", \"eagle\", \"eagle\", \"earth\", \"earth\", \"earth\", \"earth\", \"elaborately\", \"elaborately\", \"elaborately\", \"elaborately\", \"episode\", \"episode\", \"episode\", \"episode\", \"evil\", \"evil\", \"evil\", \"evil\", \"ex\", \"ex\", \"ex\", \"ex\", \"exotic\", \"exotic\", \"exotic\", \"exotic\", \"expert\", \"expert\", \"expert\", \"expert\", \"family\", \"family\", \"family\", \"family\", \"farmer\", \"farmer\", \"farmer\", \"farmer\", \"father\", \"father\", \"father\", \"father\", \"fight\", \"fight\", \"fight\", \"fight\", \"film\", \"film\", \"film\", \"film\", \"find\", \"find\", \"find\", \"find\", \"first\", \"first\", \"first\", \"first\", \"fisherman\", \"fisherman\", \"fisherman\", \"fisherman\", \"fist\", \"fist\", \"fist\", \"fist\", \"flick\", \"flick\", \"flick\", \"flick\", \"foil\", \"foil\", \"foil\", \"foil\", \"force\", \"force\", \"force\", \"force\", \"frankie\", \"frankie\", \"frankie\", \"frankie\", \"friend\", \"friend\", \"friend\", \"friend\", \"frontier\", \"frontier\", \"frontier\", \"frontier\", \"future\", \"future\", \"future\", \"future\", \"gadget\", \"gadget\", \"gadget\", \"gadget\", \"gambler\", \"gambler\", \"gambler\", \"gambler\", \"gamera\", \"gamera\", \"gamera\", \"gamera\", \"gang\", \"gang\", \"gang\", \"gang\", \"gangster\", \"gangster\", \"gangster\", \"gangster\", \"geronimo\", \"geronimo\", \"geronimo\", \"geronimo\", \"get\", \"get\", \"get\", \"get\", \"ghidorah\", \"ghidorah\", \"ghidorah\", \"ghidorah\", \"girl\", \"girl\", \"girl\", \"girl\", \"go\", \"go\", \"go\", \"go\", \"godzilla\", \"godzilla\", \"godzilla\", \"godzilla\", \"gold\", \"gold\", \"gold\", \"gold\", \"goro\", \"goro\", \"goro\", \"goro\", \"group\", \"group\", \"group\", \"group\", \"gunslinger\", \"gunslinger\", \"gunslinger\", \"gunslinger\", \"han\", \"han\", \"han\", \"han\", \"hatch\", \"hatch\", \"hatch\", \"hatch\", \"hawaii\", \"hawaii\", \"hawaii\", \"hawaii\", \"heir\", \"heir\", \"heir\", \"heir\", \"helen\", \"helen\", \"helen\", \"helen\", \"help\", \"help\", \"help\", \"help\", \"hercules\", \"hercules\", \"hercules\", \"hercules\", \"historical\", \"historical\", \"historical\", \"historical\", \"hole\", \"hole\", \"hole\", \"hole\", \"holocaust\", \"holocaust\", \"holocaust\", \"holocaust\", \"homicidal\", \"homicidal\", \"homicidal\", \"homicidal\", \"hotshot\", \"hotshot\", \"hotshot\", \"hotshot\", \"hunter\", \"hunter\", \"hunter\", \"hunter\", \"hunting\", \"hunting\", \"hunting\", \"hunting\", \"ichi\", \"ichi\", \"ichi\", \"ichi\", \"ii\", \"ii\", \"ii\", \"ii\", \"independent\", \"independent\", \"independent\", \"independent\", \"indian\", \"indian\", \"indian\", \"indian\", \"inhabit\", \"inhabit\", \"inhabit\", \"inhabit\", \"invader\", \"invader\", \"invader\", \"invader\", \"ireland\", \"ireland\", \"ireland\", \"ireland\", \"iron\", \"iron\", \"iron\", \"iron\", \"island\", \"island\", \"island\", \"island\", \"jai\", \"jai\", \"jai\", \"jai\", \"jake\", \"jake\", \"jake\", \"jake\", \"jeff\", \"jeff\", \"jeff\", \"jeff\", \"jesse\", \"jesse\", \"jesse\", \"jesse\", \"jet\", \"jet\", \"jet\", \"jet\", \"jewelry\", \"jewelry\", \"jewelry\", \"jewelry\", \"jin\", \"jin\", \"jin\", \"jin\", \"karan\", \"karan\", \"karan\", \"karan\", \"kill\", \"kill\", \"kill\", \"kill\", \"killer\", \"killer\", \"killer\", \"killer\", \"kim\", \"kim\", \"kim\", \"kim\", \"king\", \"king\", \"king\", \"king\", \"know\", \"know\", \"know\", \"know\", \"life\", \"life\", \"life\", \"life\", \"local\", \"local\", \"local\", \"local\", \"love\", \"love\", \"love\", \"love\", \"luc\", \"luc\", \"luc\", \"luc\", \"lupin\", \"lupin\", \"lupin\", \"lupin\", \"lynn\", \"lynn\", \"lynn\", \"lynn\", \"macgyver\", \"macgyver\", \"macgyver\", \"macgyver\", \"man\", \"man\", \"man\", \"man\", \"maniac\", \"maniac\", \"maniac\", \"maniac\", \"maria\", \"maria\", \"maria\", \"maria\", \"mason\", \"mason\", \"mason\", \"mason\", \"master\", \"master\", \"master\", \"master\", \"metropolis\", \"metropolis\", \"metropolis\", \"metropolis\", \"mine\", \"mine\", \"mine\", \"mine\", \"model\", \"model\", \"model\", \"model\", \"murder\", \"murder\", \"murder\", \"murder\", \"must\", \"must\", \"must\", \"must\", \"nazi\", \"nazi\", \"nazi\", \"nazi\", \"nephew\", \"nephew\", \"nephew\", \"nephew\", \"new\", \"new\", \"new\", \"new\", \"ninja\", \"ninja\", \"ninja\", \"ninja\", \"nowhere\", \"nowhere\", \"nowhere\", \"nowhere\", \"nurse\", \"nurse\", \"nurse\", \"nurse\", \"one\", \"one\", \"one\", \"one\", \"option\", \"option\", \"option\", \"option\", \"pat\", \"pat\", \"pat\", \"pat\", \"patriot\", \"patriot\", \"patriot\", \"patriot\", \"people\", \"people\", \"people\", \"people\", \"physicist\", \"physicist\", \"physicist\", \"physicist\", \"pirate\", \"pirate\", \"pirate\", \"pirate\", \"plan\", \"plan\", \"plan\", \"plan\", \"police\", \"police\", \"police\", \"police\", \"politician\", \"politician\", \"politician\", \"politician\", \"porter\", \"porter\", \"porter\", \"porter\", \"possess\", \"possess\", \"possess\", \"possess\", \"possibly\", \"possibly\", \"possibly\", \"possibly\", \"president\", \"president\", \"president\", \"president\", \"process\", \"process\", \"process\", \"process\", \"proof\", \"proof\", \"proof\", \"proof\", \"protection\", \"protection\", \"protection\", \"protection\", \"quinn\", \"quinn\", \"quinn\", \"quinn\", \"raj\", \"raj\", \"raj\", \"raj\", \"resort\", \"resort\", \"resort\", \"resort\", \"revenge\", \"revenge\", \"revenge\", \"revenge\", \"riddick\", \"riddick\", \"riddick\", \"riddick\", \"ring\", \"ring\", \"ring\", \"ring\", \"rizzo\", \"rizzo\", \"rizzo\", \"rizzo\", \"robotic\", \"robotic\", \"robotic\", \"robotic\", \"ron\", \"ron\", \"ron\", \"ron\", \"ronnie\", \"ronnie\", \"ronnie\", \"ronnie\", \"russians\", \"russians\", \"russians\", \"russians\", \"saboteur\", \"saboteur\", \"saboteur\", \"saboteur\", \"saint\", \"saint\", \"saint\", \"saint\", \"sanctuary\", \"sanctuary\", \"sanctuary\", \"sanctuary\", \"save\", \"save\", \"save\", \"save\", \"school\", \"school\", \"school\", \"school\", \"scooter\", \"scooter\", \"scooter\", \"scooter\", \"scott\", \"scott\", \"scott\", \"scott\", \"secret\", \"secret\", \"secret\", \"secret\", \"send\", \"send\", \"send\", \"send\", \"settler\", \"settler\", \"settler\", \"settler\", \"shaolin\", \"shaolin\", \"shaolin\", \"shaolin\", \"shark\", \"shark\", \"shark\", \"shark\", \"shipwreck\", \"shipwreck\", \"shipwreck\", \"shipwreck\", \"sibling\", \"sibling\", \"sibling\", \"sibling\", \"situation\", \"situation\", \"situation\", \"situation\", \"slaughter\", \"slaughter\", \"slaughter\", \"slaughter\", \"slip\", \"slip\", \"slip\", \"slip\", \"solution\", \"solution\", \"solution\", \"solution\", \"son\", \"son\", \"son\", \"son\", \"spiral\", \"spiral\", \"spiral\", \"spiral\", \"spotlight\", \"spotlight\", \"spotlight\", \"spotlight\", \"start\", \"start\", \"start\", \"start\", \"story\", \"story\", \"story\", \"story\", \"stray\", \"stray\", \"stray\", \"stray\", \"style\", \"style\", \"style\", \"style\", \"sudden\", \"sudden\", \"sudden\", \"sudden\", \"superman\", \"superman\", \"superman\", \"superman\", \"supernatural\", \"supernatural\", \"supernatural\", \"supernatural\", \"taiwan\", \"taiwan\", \"taiwan\", \"taiwan\", \"tajima\", \"tajima\", \"tajima\", \"tajima\", \"take\", \"take\", \"take\", \"take\", \"takeda\", \"takeda\", \"takeda\", \"takeda\", \"tartars\", \"tartars\", \"tartars\", \"tartars\", \"task\", \"task\", \"task\", \"task\", \"tat\", \"tat\", \"tat\", \"tat\", \"teacher\", \"teacher\", \"teacher\", \"teacher\", \"team\", \"team\", \"team\", \"team\", \"temple\", \"temple\", \"temple\", \"temple\", \"terrorist\", \"terrorist\", \"terrorist\", \"terrorist\", \"texas\", \"texas\", \"texas\", \"texas\", \"tokyo\", \"tokyo\", \"tokyo\", \"tokyo\", \"tower\", \"tower\", \"tower\", \"tower\", \"town\", \"town\", \"town\", \"town\", \"traffic\", \"traffic\", \"traffic\", \"traffic\", \"trucker\", \"trucker\", \"trucker\", \"trucker\", \"truman\", \"truman\", \"truman\", \"truman\", \"try\", \"try\", \"try\", \"try\", \"turkish\", \"turkish\", \"turkish\", \"turkish\", \"turn\", \"turn\", \"turn\", \"turn\", \"two\", \"two\", \"two\", \"two\", \"u\", \"u\", \"u\", \"u\", \"undercover\", \"undercover\", \"undercover\", \"undercover\", \"underworld\", \"underworld\", \"underworld\", \"underworld\", \"unite\", \"unite\", \"unite\", \"unite\", \"universal\", \"universal\", \"universal\", \"universal\", \"use\", \"use\", \"use\", \"use\", \"vampire\", \"vampire\", \"vampire\", \"vampire\", \"vicious\", \"vicious\", \"vicious\", \"vicious\", \"victim\", \"victim\", \"victim\", \"victim\", \"vijay\", \"vijay\", \"vijay\", \"vijay\", \"wade\", \"wade\", \"wade\", \"wade\", \"war\", \"war\", \"war\", \"war\", \"way\", \"way\", \"way\", \"way\", \"wellington\", \"wellington\", \"wellington\", \"wellington\", \"wendy\", \"wendy\", \"wendy\", \"wendy\", \"wife\", \"wife\", \"wife\", \"wife\", \"wilson\", \"wilson\", \"wilson\", \"wilson\", \"woman\", \"woman\", \"woman\", \"woman\", \"world\", \"world\", \"world\", \"world\", \"wrestler\", \"wrestler\", \"wrestler\", \"wrestler\", \"year\", \"year\", \"year\", \"year\", \"young\", \"young\", \"young\", \"young\", \"zero\", \"zero\", \"zero\", \"zero\"]}, \"R\": 30, \"lambda.step\": 0.01, \"plot.opts\": {\"xlab\": \"PC1\", \"ylab\": \"PC2\"}, \"topic.order\": [1, 4, 3, 2]};\n",
              "\n",
              "function LDAvis_load_lib(url, callback){\n",
              "  var s = document.createElement('script');\n",
              "  s.src = url;\n",
              "  s.async = true;\n",
              "  s.onreadystatechange = s.onload = callback;\n",
              "  s.onerror = function(){console.warn(\"failed to load library \" + url);};\n",
              "  document.getElementsByTagName(\"head\")[0].appendChild(s);\n",
              "}\n",
              "\n",
              "if(typeof(LDAvis) !== \"undefined\"){\n",
              "   // already loaded: just create the visualization\n",
              "   !function(LDAvis){\n",
              "       new LDAvis(\"#\" + \"ldavis_el1265139710277515728312709822\", ldavis_el1265139710277515728312709822_data);\n",
              "   }(LDAvis);\n",
              "}else if(typeof define === \"function\" && define.amd){\n",
              "   // require.js is available: use it to load d3/LDAvis\n",
              "   require.config({paths: {d3: \"https://d3js.org/d3.v5\"}});\n",
              "   require([\"d3\"], function(d3){\n",
              "      window.d3 = d3;\n",
              "      LDAvis_load_lib(\"https://cdn.jsdelivr.net/gh/bmabey/pyLDAvis@3.3.1/pyLDAvis/js/ldavis.v3.0.0.js\", function(){\n",
              "        new LDAvis(\"#\" + \"ldavis_el1265139710277515728312709822\", ldavis_el1265139710277515728312709822_data);\n",
              "      });\n",
              "    });\n",
              "}else{\n",
              "    // require.js not available: dynamically load d3 & LDAvis\n",
              "    LDAvis_load_lib(\"https://d3js.org/d3.v5.js\", function(){\n",
              "         LDAvis_load_lib(\"https://cdn.jsdelivr.net/gh/bmabey/pyLDAvis@3.3.1/pyLDAvis/js/ldavis.v3.0.0.js\", function(){\n",
              "                 new LDAvis(\"#\" + \"ldavis_el1265139710277515728312709822\", ldavis_el1265139710277515728312709822_data);\n",
              "            })\n",
              "         });\n",
              "}\n",
              "</script>"
            ],
            "text/plain": [
              "<IPython.core.display.HTML object>"
            ]
          },
          "metadata": {},
          "execution_count": 40
        }
      ]
    },
    {
      "cell_type": "code",
      "metadata": {
        "id": "yq4TtTc-PlO5",
        "colab": {
          "base_uri": "https://localhost:8080/",
          "height": 397
        },
        "outputId": "0a39343f-2207-4ebe-9385-c9024812f786"
      },
      "source": [
        "dictionary = Dictionary(df['overview_clean'])\n",
        "corpus = [genre_models[g]['dictionary'].doc2bow(line) for line in df['overview_clean']]\n",
        "\n",
        "for g in tqdm(main_genres):\n",
        "\n",
        "    tfidf = genre_models[g]['tfidf']\n",
        "    doc = tfidf[corpus]\n",
        "    vectors = genre_models[g]['lda'][doc]\n",
        "\n",
        "    columns = np.array([[x[1] for x in v] for v in vectors]).transpose()\n",
        "\n",
        "    for i in range(4):\n",
        "        df[g + str(i)] = columns[i]\n",
        "\n",
        "df.head(2)"
      ],
      "execution_count": null,
      "outputs": [
        {
          "output_type": "stream",
          "name": "stderr",
          "text": [
            "100%|██████████| 16/16 [04:00<00:00, 15.03s/it]\n"
          ]
        },
        {
          "output_type": "error",
          "ename": "NameError",
          "evalue": "ignored",
          "traceback": [
            "\u001b[0;31m---------------------------------------------------------------------------\u001b[0m",
            "\u001b[0;31mNameError\u001b[0m                                 Traceback (most recent call last)",
            "\u001b[0;32m<ipython-input-56-484119ee0366>\u001b[0m in \u001b[0;36m<module>\u001b[0;34m()\u001b[0m\n\u001b[1;32m     14\u001b[0m \u001b[0;34m\u001b[0m\u001b[0m\n\u001b[1;32m     15\u001b[0m \u001b[0;32mfor\u001b[0m \u001b[0mg\u001b[0m \u001b[0;32min\u001b[0m \u001b[0mmain_genres\u001b[0m\u001b[0;34m:\u001b[0m\u001b[0;34m\u001b[0m\u001b[0;34m\u001b[0m\u001b[0m\n\u001b[0;32m---> 16\u001b[0;31m     \u001b[0mis_genre\u001b[0m \u001b[0;34m=\u001b[0m \u001b[0mdf\u001b[0m\u001b[0;34m[\u001b[0m\u001b[0;34m'genres'\u001b[0m\u001b[0;34m]\u001b[0m\u001b[0;34m.\u001b[0m\u001b[0mapply\u001b[0m\u001b[0;34m(\u001b[0m\u001b[0;32mlambda\u001b[0m \u001b[0mx\u001b[0m\u001b[0;34m:\u001b[0m \u001b[0mhas_genre\u001b[0m\u001b[0;34m(\u001b[0m\u001b[0mx\u001b[0m\u001b[0;34m,\u001b[0m \u001b[0mg\u001b[0m\u001b[0;34m)\u001b[0m\u001b[0;34m)\u001b[0m\u001b[0;34m\u001b[0m\u001b[0;34m\u001b[0m\u001b[0m\n\u001b[0m\u001b[1;32m     17\u001b[0m     \u001b[0;32mfor\u001b[0m \u001b[0mi\u001b[0m \u001b[0;32min\u001b[0m \u001b[0mrange\u001b[0m\u001b[0;34m(\u001b[0m\u001b[0;36m4\u001b[0m\u001b[0;34m)\u001b[0m\u001b[0;34m:\u001b[0m\u001b[0;34m\u001b[0m\u001b[0;34m\u001b[0m\u001b[0m\n\u001b[1;32m     18\u001b[0m         \u001b[0mdf\u001b[0m\u001b[0;34m[\u001b[0m\u001b[0mg\u001b[0m \u001b[0;34m+\u001b[0m \u001b[0mstr\u001b[0m\u001b[0;34m(\u001b[0m\u001b[0mi\u001b[0m\u001b[0;34m)\u001b[0m\u001b[0;34m]\u001b[0m \u001b[0;34m=\u001b[0m \u001b[0mdf\u001b[0m\u001b[0;34m[\u001b[0m\u001b[0mg\u001b[0m \u001b[0;34m+\u001b[0m \u001b[0mstr\u001b[0m\u001b[0;34m(\u001b[0m\u001b[0mi\u001b[0m\u001b[0;34m)\u001b[0m\u001b[0;34m]\u001b[0m \u001b[0;34m*\u001b[0m \u001b[0mis_genre\u001b[0m\u001b[0;34m\u001b[0m\u001b[0;34m\u001b[0m\u001b[0m\n",
            "\u001b[0;32m/usr/local/lib/python3.7/dist-packages/pandas/core/series.py\u001b[0m in \u001b[0;36mapply\u001b[0;34m(self, func, convert_dtype, args, **kwargs)\u001b[0m\n\u001b[1;32m   4355\u001b[0m         \u001b[0mdtype\u001b[0m\u001b[0;34m:\u001b[0m \u001b[0mfloat64\u001b[0m\u001b[0;34m\u001b[0m\u001b[0;34m\u001b[0m\u001b[0m\n\u001b[1;32m   4356\u001b[0m         \"\"\"\n\u001b[0;32m-> 4357\u001b[0;31m         \u001b[0;32mreturn\u001b[0m \u001b[0mSeriesApply\u001b[0m\u001b[0;34m(\u001b[0m\u001b[0mself\u001b[0m\u001b[0;34m,\u001b[0m \u001b[0mfunc\u001b[0m\u001b[0;34m,\u001b[0m \u001b[0mconvert_dtype\u001b[0m\u001b[0;34m,\u001b[0m \u001b[0margs\u001b[0m\u001b[0;34m,\u001b[0m \u001b[0mkwargs\u001b[0m\u001b[0;34m)\u001b[0m\u001b[0;34m.\u001b[0m\u001b[0mapply\u001b[0m\u001b[0;34m(\u001b[0m\u001b[0;34m)\u001b[0m\u001b[0;34m\u001b[0m\u001b[0;34m\u001b[0m\u001b[0m\n\u001b[0m\u001b[1;32m   4358\u001b[0m \u001b[0;34m\u001b[0m\u001b[0m\n\u001b[1;32m   4359\u001b[0m     def _reduce(\n",
            "\u001b[0;32m/usr/local/lib/python3.7/dist-packages/pandas/core/apply.py\u001b[0m in \u001b[0;36mapply\u001b[0;34m(self)\u001b[0m\n\u001b[1;32m   1041\u001b[0m             \u001b[0;32mreturn\u001b[0m \u001b[0mself\u001b[0m\u001b[0;34m.\u001b[0m\u001b[0mapply_str\u001b[0m\u001b[0;34m(\u001b[0m\u001b[0;34m)\u001b[0m\u001b[0;34m\u001b[0m\u001b[0;34m\u001b[0m\u001b[0m\n\u001b[1;32m   1042\u001b[0m \u001b[0;34m\u001b[0m\u001b[0m\n\u001b[0;32m-> 1043\u001b[0;31m         \u001b[0;32mreturn\u001b[0m \u001b[0mself\u001b[0m\u001b[0;34m.\u001b[0m\u001b[0mapply_standard\u001b[0m\u001b[0;34m(\u001b[0m\u001b[0;34m)\u001b[0m\u001b[0;34m\u001b[0m\u001b[0;34m\u001b[0m\u001b[0m\n\u001b[0m\u001b[1;32m   1044\u001b[0m \u001b[0;34m\u001b[0m\u001b[0m\n\u001b[1;32m   1045\u001b[0m     \u001b[0;32mdef\u001b[0m \u001b[0magg\u001b[0m\u001b[0;34m(\u001b[0m\u001b[0mself\u001b[0m\u001b[0;34m)\u001b[0m\u001b[0;34m:\u001b[0m\u001b[0;34m\u001b[0m\u001b[0;34m\u001b[0m\u001b[0m\n",
            "\u001b[0;32m/usr/local/lib/python3.7/dist-packages/pandas/core/apply.py\u001b[0m in \u001b[0;36mapply_standard\u001b[0;34m(self)\u001b[0m\n\u001b[1;32m   1099\u001b[0m                     \u001b[0mvalues\u001b[0m\u001b[0;34m,\u001b[0m\u001b[0;34m\u001b[0m\u001b[0;34m\u001b[0m\u001b[0m\n\u001b[1;32m   1100\u001b[0m                     \u001b[0mf\u001b[0m\u001b[0;34m,\u001b[0m  \u001b[0;31m# type: ignore[arg-type]\u001b[0m\u001b[0;34m\u001b[0m\u001b[0;34m\u001b[0m\u001b[0m\n\u001b[0;32m-> 1101\u001b[0;31m                     \u001b[0mconvert\u001b[0m\u001b[0;34m=\u001b[0m\u001b[0mself\u001b[0m\u001b[0;34m.\u001b[0m\u001b[0mconvert_dtype\u001b[0m\u001b[0;34m,\u001b[0m\u001b[0;34m\u001b[0m\u001b[0;34m\u001b[0m\u001b[0m\n\u001b[0m\u001b[1;32m   1102\u001b[0m                 )\n\u001b[1;32m   1103\u001b[0m \u001b[0;34m\u001b[0m\u001b[0m\n",
            "\u001b[0;32m/usr/local/lib/python3.7/dist-packages/pandas/_libs/lib.pyx\u001b[0m in \u001b[0;36mpandas._libs.lib.map_infer\u001b[0;34m()\u001b[0m\n",
            "\u001b[0;32m<ipython-input-56-484119ee0366>\u001b[0m in \u001b[0;36m<lambda>\u001b[0;34m(x)\u001b[0m\n\u001b[1;32m     14\u001b[0m \u001b[0;34m\u001b[0m\u001b[0m\n\u001b[1;32m     15\u001b[0m \u001b[0;32mfor\u001b[0m \u001b[0mg\u001b[0m \u001b[0;32min\u001b[0m \u001b[0mmain_genres\u001b[0m\u001b[0;34m:\u001b[0m\u001b[0;34m\u001b[0m\u001b[0;34m\u001b[0m\u001b[0m\n\u001b[0;32m---> 16\u001b[0;31m     \u001b[0mis_genre\u001b[0m \u001b[0;34m=\u001b[0m \u001b[0mdf\u001b[0m\u001b[0;34m[\u001b[0m\u001b[0;34m'genres'\u001b[0m\u001b[0;34m]\u001b[0m\u001b[0;34m.\u001b[0m\u001b[0mapply\u001b[0m\u001b[0;34m(\u001b[0m\u001b[0;32mlambda\u001b[0m \u001b[0mx\u001b[0m\u001b[0;34m:\u001b[0m \u001b[0mhas_genre\u001b[0m\u001b[0;34m(\u001b[0m\u001b[0mx\u001b[0m\u001b[0;34m,\u001b[0m \u001b[0mg\u001b[0m\u001b[0;34m)\u001b[0m\u001b[0;34m)\u001b[0m\u001b[0;34m\u001b[0m\u001b[0;34m\u001b[0m\u001b[0m\n\u001b[0m\u001b[1;32m     17\u001b[0m     \u001b[0;32mfor\u001b[0m \u001b[0mi\u001b[0m \u001b[0;32min\u001b[0m \u001b[0mrange\u001b[0m\u001b[0;34m(\u001b[0m\u001b[0;36m4\u001b[0m\u001b[0;34m)\u001b[0m\u001b[0;34m:\u001b[0m\u001b[0;34m\u001b[0m\u001b[0;34m\u001b[0m\u001b[0m\n\u001b[1;32m     18\u001b[0m         \u001b[0mdf\u001b[0m\u001b[0;34m[\u001b[0m\u001b[0mg\u001b[0m \u001b[0;34m+\u001b[0m \u001b[0mstr\u001b[0m\u001b[0;34m(\u001b[0m\u001b[0mi\u001b[0m\u001b[0;34m)\u001b[0m\u001b[0;34m]\u001b[0m \u001b[0;34m=\u001b[0m \u001b[0mdf\u001b[0m\u001b[0;34m[\u001b[0m\u001b[0mg\u001b[0m \u001b[0;34m+\u001b[0m \u001b[0mstr\u001b[0m\u001b[0;34m(\u001b[0m\u001b[0mi\u001b[0m\u001b[0;34m)\u001b[0m\u001b[0;34m]\u001b[0m \u001b[0;34m*\u001b[0m \u001b[0mis_genre\u001b[0m\u001b[0;34m\u001b[0m\u001b[0;34m\u001b[0m\u001b[0m\n",
            "\u001b[0;31mNameError\u001b[0m: name 'has_genre' is not defined"
          ]
        }
      ]
    },
    {
      "cell_type": "code",
      "metadata": {
        "colab": {
          "base_uri": "https://localhost:8080/",
          "height": 340
        },
        "id": "SY5zE3MBBy-q",
        "outputId": "984bedba-cbf9-46bb-ac65-0f3543db8b2f"
      },
      "source": [
        "for g in main_genres:\n",
        "    is_genre = df['genres'].apply(lambda x: 1 if g in x else 0)\n",
        "    for i in range(4):\n",
        "        df[g + str(i)] = df[g + str(i)] * is_genre\n",
        "\n",
        "df.head(2)"
      ],
      "execution_count": null,
      "outputs": [
        {
          "output_type": "execute_result",
          "data": {
            "text/html": [
              "<div>\n",
              "<style scoped>\n",
              "    .dataframe tbody tr th:only-of-type {\n",
              "        vertical-align: middle;\n",
              "    }\n",
              "\n",
              "    .dataframe tbody tr th {\n",
              "        vertical-align: top;\n",
              "    }\n",
              "\n",
              "    .dataframe thead th {\n",
              "        text-align: right;\n",
              "    }\n",
              "</style>\n",
              "<table border=\"1\" class=\"dataframe\">\n",
              "  <thead>\n",
              "    <tr style=\"text-align: right;\">\n",
              "      <th></th>\n",
              "      <th>Unnamed: 0</th>\n",
              "      <th>movieId</th>\n",
              "      <th>title_x</th>\n",
              "      <th>genres</th>\n",
              "      <th>year</th>\n",
              "      <th>user_tag_list</th>\n",
              "      <th>imdb_id</th>\n",
              "      <th>tmdbId</th>\n",
              "      <th>title_y</th>\n",
              "      <th>overview</th>\n",
              "      <th>production_companies</th>\n",
              "      <th>production_countries</th>\n",
              "      <th>spoken_languages</th>\n",
              "      <th>tagline</th>\n",
              "      <th>overview_clean</th>\n",
              "      <th>Drama0</th>\n",
              "      <th>Drama1</th>\n",
              "      <th>Drama2</th>\n",
              "      <th>Drama3</th>\n",
              "      <th>Comedy0</th>\n",
              "      <th>Comedy1</th>\n",
              "      <th>Comedy2</th>\n",
              "      <th>Comedy3</th>\n",
              "      <th>Romance0</th>\n",
              "      <th>Romance1</th>\n",
              "      <th>Romance2</th>\n",
              "      <th>Romance3</th>\n",
              "      <th>Thriller0</th>\n",
              "      <th>Thriller1</th>\n",
              "      <th>Thriller2</th>\n",
              "      <th>Thriller3</th>\n",
              "      <th>Action0</th>\n",
              "      <th>Action1</th>\n",
              "      <th>Action2</th>\n",
              "      <th>Action3</th>\n",
              "      <th>Crime0</th>\n",
              "      <th>Crime1</th>\n",
              "      <th>Crime2</th>\n",
              "      <th>Crime3</th>\n",
              "      <th>Horror0</th>\n",
              "      <th>Horror1</th>\n",
              "      <th>Horror2</th>\n",
              "      <th>Horror3</th>\n",
              "      <th>Adventure0</th>\n",
              "      <th>Adventure1</th>\n",
              "      <th>Adventure2</th>\n",
              "      <th>Adventure3</th>\n",
              "      <th>Sci0</th>\n",
              "      <th>Sci1</th>\n",
              "      <th>Sci2</th>\n",
              "      <th>Sci3</th>\n",
              "      <th>Fi0</th>\n",
              "      <th>Fi1</th>\n",
              "      <th>Fi2</th>\n",
              "      <th>Fi3</th>\n",
              "      <th>Mystery0</th>\n",
              "      <th>Mystery1</th>\n",
              "      <th>Mystery2</th>\n",
              "      <th>Mystery3</th>\n",
              "      <th>Documentary0</th>\n",
              "      <th>Documentary1</th>\n",
              "      <th>Documentary2</th>\n",
              "      <th>Documentary3</th>\n",
              "      <th>Fantasy0</th>\n",
              "      <th>Fantasy1</th>\n",
              "      <th>Fantasy2</th>\n",
              "      <th>Fantasy3</th>\n",
              "      <th>Children0</th>\n",
              "      <th>Children1</th>\n",
              "      <th>Children2</th>\n",
              "      <th>Children3</th>\n",
              "      <th>War0</th>\n",
              "      <th>War1</th>\n",
              "      <th>War2</th>\n",
              "      <th>War3</th>\n",
              "      <th>Animation0</th>\n",
              "      <th>Animation1</th>\n",
              "      <th>Animation2</th>\n",
              "      <th>Animation3</th>\n",
              "    </tr>\n",
              "  </thead>\n",
              "  <tbody>\n",
              "    <tr>\n",
              "      <th>0</th>\n",
              "      <td>0.0</td>\n",
              "      <td>1.0</td>\n",
              "      <td>Toy Story</td>\n",
              "      <td>[Adventure, Animation, Children, Comedy, Fantasy]</td>\n",
              "      <td>['1995']</td>\n",
              "      <td>['Owned', 'imdb top 250', 'Pixar', 'Pixar', 't...</td>\n",
              "      <td>114709.0</td>\n",
              "      <td>862.0</td>\n",
              "      <td>Toy Story</td>\n",
              "      <td>Led by Woody, Andy's toys live happily in his ...</td>\n",
              "      <td>['Pixar Animation Studios']</td>\n",
              "      <td>NaN</td>\n",
              "      <td>NaN</td>\n",
              "      <td>NaN</td>\n",
              "      <td>[lead, woody, andy, toy, live, happily, room, ...</td>\n",
              "      <td>0.0</td>\n",
              "      <td>0.0</td>\n",
              "      <td>0.0</td>\n",
              "      <td>0.0</td>\n",
              "      <td>0.497278</td>\n",
              "      <td>0.402042</td>\n",
              "      <td>0.05131</td>\n",
              "      <td>0.04937</td>\n",
              "      <td>0.0</td>\n",
              "      <td>0.0</td>\n",
              "      <td>0.0</td>\n",
              "      <td>0.0</td>\n",
              "      <td>0.0</td>\n",
              "      <td>0.0</td>\n",
              "      <td>0.0</td>\n",
              "      <td>0.0</td>\n",
              "      <td>0.0</td>\n",
              "      <td>0.0</td>\n",
              "      <td>0.0</td>\n",
              "      <td>0.0</td>\n",
              "      <td>0.0</td>\n",
              "      <td>0.0</td>\n",
              "      <td>0.0</td>\n",
              "      <td>0.0</td>\n",
              "      <td>0.0</td>\n",
              "      <td>0.0</td>\n",
              "      <td>0.0</td>\n",
              "      <td>0.0</td>\n",
              "      <td>0.833247</td>\n",
              "      <td>0.066475</td>\n",
              "      <td>0.049374</td>\n",
              "      <td>0.050904</td>\n",
              "      <td>0.0</td>\n",
              "      <td>0.0</td>\n",
              "      <td>0.0</td>\n",
              "      <td>0.0</td>\n",
              "      <td>0.0</td>\n",
              "      <td>0.0</td>\n",
              "      <td>0.0</td>\n",
              "      <td>0.0</td>\n",
              "      <td>0.0</td>\n",
              "      <td>0.0</td>\n",
              "      <td>0.0</td>\n",
              "      <td>0.0</td>\n",
              "      <td>0.0</td>\n",
              "      <td>0.0</td>\n",
              "      <td>0.0</td>\n",
              "      <td>0.0</td>\n",
              "      <td>0.847380</td>\n",
              "      <td>0.050870</td>\n",
              "      <td>0.050446</td>\n",
              "      <td>0.051304</td>\n",
              "      <td>0.847251</td>\n",
              "      <td>0.051269</td>\n",
              "      <td>0.050495</td>\n",
              "      <td>0.050986</td>\n",
              "      <td>0.0</td>\n",
              "      <td>0.0</td>\n",
              "      <td>0.0</td>\n",
              "      <td>0.0</td>\n",
              "      <td>0.048533</td>\n",
              "      <td>0.050455</td>\n",
              "      <td>0.851751</td>\n",
              "      <td>0.04926</td>\n",
              "    </tr>\n",
              "    <tr>\n",
              "      <th>1</th>\n",
              "      <td>1.0</td>\n",
              "      <td>2.0</td>\n",
              "      <td>Jumanji</td>\n",
              "      <td>[Adventure, Children, Fantasy]</td>\n",
              "      <td>['1995']</td>\n",
              "      <td>['Robin Williams', 'time travel', 'fantasy', \"...</td>\n",
              "      <td>113497.0</td>\n",
              "      <td>8844.0</td>\n",
              "      <td>Jumanji</td>\n",
              "      <td>When siblings Judy and Peter discover an encha...</td>\n",
              "      <td>['TriStar Pictures', 'Teitler Film', 'Intersco...</td>\n",
              "      <td>NaN</td>\n",
              "      <td>NaN</td>\n",
              "      <td>Roll the dice and unleash the excitement!</td>\n",
              "      <td>[sibling, judy, peter, discover, enchanted, bo...</td>\n",
              "      <td>0.0</td>\n",
              "      <td>0.0</td>\n",
              "      <td>0.0</td>\n",
              "      <td>0.0</td>\n",
              "      <td>0.000000</td>\n",
              "      <td>0.000000</td>\n",
              "      <td>0.00000</td>\n",
              "      <td>0.00000</td>\n",
              "      <td>0.0</td>\n",
              "      <td>0.0</td>\n",
              "      <td>0.0</td>\n",
              "      <td>0.0</td>\n",
              "      <td>0.0</td>\n",
              "      <td>0.0</td>\n",
              "      <td>0.0</td>\n",
              "      <td>0.0</td>\n",
              "      <td>0.0</td>\n",
              "      <td>0.0</td>\n",
              "      <td>0.0</td>\n",
              "      <td>0.0</td>\n",
              "      <td>0.0</td>\n",
              "      <td>0.0</td>\n",
              "      <td>0.0</td>\n",
              "      <td>0.0</td>\n",
              "      <td>0.0</td>\n",
              "      <td>0.0</td>\n",
              "      <td>0.0</td>\n",
              "      <td>0.0</td>\n",
              "      <td>0.410072</td>\n",
              "      <td>0.466852</td>\n",
              "      <td>0.051150</td>\n",
              "      <td>0.071926</td>\n",
              "      <td>0.0</td>\n",
              "      <td>0.0</td>\n",
              "      <td>0.0</td>\n",
              "      <td>0.0</td>\n",
              "      <td>0.0</td>\n",
              "      <td>0.0</td>\n",
              "      <td>0.0</td>\n",
              "      <td>0.0</td>\n",
              "      <td>0.0</td>\n",
              "      <td>0.0</td>\n",
              "      <td>0.0</td>\n",
              "      <td>0.0</td>\n",
              "      <td>0.0</td>\n",
              "      <td>0.0</td>\n",
              "      <td>0.0</td>\n",
              "      <td>0.0</td>\n",
              "      <td>0.252473</td>\n",
              "      <td>0.049105</td>\n",
              "      <td>0.650524</td>\n",
              "      <td>0.047898</td>\n",
              "      <td>0.617610</td>\n",
              "      <td>0.053673</td>\n",
              "      <td>0.280690</td>\n",
              "      <td>0.048026</td>\n",
              "      <td>0.0</td>\n",
              "      <td>0.0</td>\n",
              "      <td>0.0</td>\n",
              "      <td>0.0</td>\n",
              "      <td>0.000000</td>\n",
              "      <td>0.000000</td>\n",
              "      <td>0.000000</td>\n",
              "      <td>0.00000</td>\n",
              "    </tr>\n",
              "  </tbody>\n",
              "</table>\n",
              "</div>"
            ],
            "text/plain": [
              "   Unnamed: 0  movieId     title_x  ... Animation1 Animation2 Animation3\n",
              "0         0.0      1.0  Toy Story   ...   0.050455   0.851751    0.04926\n",
              "1         1.0      2.0    Jumanji   ...   0.000000   0.000000    0.00000\n",
              "\n",
              "[2 rows x 79 columns]"
            ]
          },
          "metadata": {},
          "execution_count": 58
        }
      ]
    },
    {
      "cell_type": "code",
      "metadata": {
        "id": "4WQ92IQY5Q3i"
      },
      "source": [
        "df = df.drop('Unnamed: 0', axis = 1)"
      ],
      "execution_count": null,
      "outputs": []
    },
    {
      "cell_type": "code",
      "metadata": {
        "id": "4bJ3Nzus6uq7"
      },
      "source": [
        "df.to_csv('content_genre_lda.csv')"
      ],
      "execution_count": null,
      "outputs": []
    },
    {
      "cell_type": "code",
      "metadata": {
        "id": "o9YqVdBs68_z"
      },
      "source": [
        ""
      ],
      "execution_count": null,
      "outputs": []
    }
  ]
}